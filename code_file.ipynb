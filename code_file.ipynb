{
  "nbformat": 4,
  "nbformat_minor": 2,
  "metadata": {
    "colab": {
      "name": "major Project.ipynb",
      "provenance": [],
      "collapsed_sections": []
    },
    "kernelspec": {
      "name": "python3",
      "display_name": "Python 3"
    },
    "language_info": {
      "name": "python"
    }
  },
  "cells": [
    {
      "cell_type": "markdown",
      "source": [
        "## Importing Required packages"
      ],
      "metadata": {}
    },
    {
      "cell_type": "code",
      "execution_count": 3,
      "source": [
        "import pandas as pd\n",
        "import numpy as np\n",
        "import seaborn as sns\n",
        "import matplotlib.pyplot as plt"
      ],
      "outputs": [],
      "metadata": {
        "id": "HHeM5jNzOPHg"
      }
    },
    {
      "cell_type": "code",
      "execution_count": null,
      "source": [
        "!pip install vecstack"
      ],
      "outputs": [],
      "metadata": {
        "colab": {
          "base_uri": "https://localhost:8080/"
        },
        "id": "YkOiK9nuu6dO",
        "outputId": "b80ebaec-15e6-4870-8b23-1205aa9b69f2"
      }
    },
    {
      "cell_type": "markdown",
      "source": [
        "## Reading the Data_Set "
      ],
      "metadata": {}
    },
    {
      "cell_type": "code",
      "execution_count": 7,
      "source": [
        "df=pd.read_csv(\"major data.csv\")"
      ],
      "outputs": [],
      "metadata": {
        "id": "D2rpdQ3_RYmh"
      }
    },
    {
      "cell_type": "markdown",
      "source": [
        "## Glance at the Data_Set"
      ],
      "metadata": {}
    },
    {
      "cell_type": "code",
      "execution_count": 8,
      "source": [
        "df.head()"
      ],
      "outputs": [
        {
          "output_type": "execute_result",
          "data": {
            "text/plain": [
              "   Selling_Price  Present_Price  Kms_Driven  Fuel_Type  Seller_Type  \\\n",
              "0           3.35           5.59       27000          0            0   \n",
              "1           4.75           9.54       43000          1            0   \n",
              "2           7.25           9.85        6900          0            0   \n",
              "3           2.85           4.15        5200          0            0   \n",
              "4           4.60           6.87       42450          1            0   \n",
              "\n",
              "   Transmission  Owner  age  S_Score  \n",
              "0             0      0    7      421  \n",
              "1             0      0    8      480  \n",
              "2             0      0    4      872  \n",
              "3             0      0   10      468  \n",
              "4             0      0    7      348  "
            ],
            "text/html": [
              "<div>\n",
              "<style scoped>\n",
              "    .dataframe tbody tr th:only-of-type {\n",
              "        vertical-align: middle;\n",
              "    }\n",
              "\n",
              "    .dataframe tbody tr th {\n",
              "        vertical-align: top;\n",
              "    }\n",
              "\n",
              "    .dataframe thead th {\n",
              "        text-align: right;\n",
              "    }\n",
              "</style>\n",
              "<table border=\"1\" class=\"dataframe\">\n",
              "  <thead>\n",
              "    <tr style=\"text-align: right;\">\n",
              "      <th></th>\n",
              "      <th>Selling_Price</th>\n",
              "      <th>Present_Price</th>\n",
              "      <th>Kms_Driven</th>\n",
              "      <th>Fuel_Type</th>\n",
              "      <th>Seller_Type</th>\n",
              "      <th>Transmission</th>\n",
              "      <th>Owner</th>\n",
              "      <th>age</th>\n",
              "      <th>S_Score</th>\n",
              "    </tr>\n",
              "  </thead>\n",
              "  <tbody>\n",
              "    <tr>\n",
              "      <th>0</th>\n",
              "      <td>3.35</td>\n",
              "      <td>5.59</td>\n",
              "      <td>27000</td>\n",
              "      <td>0</td>\n",
              "      <td>0</td>\n",
              "      <td>0</td>\n",
              "      <td>0</td>\n",
              "      <td>7</td>\n",
              "      <td>421</td>\n",
              "    </tr>\n",
              "    <tr>\n",
              "      <th>1</th>\n",
              "      <td>4.75</td>\n",
              "      <td>9.54</td>\n",
              "      <td>43000</td>\n",
              "      <td>1</td>\n",
              "      <td>0</td>\n",
              "      <td>0</td>\n",
              "      <td>0</td>\n",
              "      <td>8</td>\n",
              "      <td>480</td>\n",
              "    </tr>\n",
              "    <tr>\n",
              "      <th>2</th>\n",
              "      <td>7.25</td>\n",
              "      <td>9.85</td>\n",
              "      <td>6900</td>\n",
              "      <td>0</td>\n",
              "      <td>0</td>\n",
              "      <td>0</td>\n",
              "      <td>0</td>\n",
              "      <td>4</td>\n",
              "      <td>872</td>\n",
              "    </tr>\n",
              "    <tr>\n",
              "      <th>3</th>\n",
              "      <td>2.85</td>\n",
              "      <td>4.15</td>\n",
              "      <td>5200</td>\n",
              "      <td>0</td>\n",
              "      <td>0</td>\n",
              "      <td>0</td>\n",
              "      <td>0</td>\n",
              "      <td>10</td>\n",
              "      <td>468</td>\n",
              "    </tr>\n",
              "    <tr>\n",
              "      <th>4</th>\n",
              "      <td>4.60</td>\n",
              "      <td>6.87</td>\n",
              "      <td>42450</td>\n",
              "      <td>1</td>\n",
              "      <td>0</td>\n",
              "      <td>0</td>\n",
              "      <td>0</td>\n",
              "      <td>7</td>\n",
              "      <td>348</td>\n",
              "    </tr>\n",
              "  </tbody>\n",
              "</table>\n",
              "</div>"
            ]
          },
          "metadata": {},
          "execution_count": 8
        }
      ],
      "metadata": {
        "colab": {
          "base_uri": "https://localhost:8080/",
          "height": 204
        },
        "id": "pxxyU1hVRguE",
        "outputId": "07eb3874-979f-4b91-bf87-f750808aa73b"
      }
    },
    {
      "cell_type": "markdown",
      "source": [
        "## Finding the Correlations"
      ],
      "metadata": {}
    },
    {
      "cell_type": "code",
      "execution_count": 9,
      "source": [
        "df.corr()"
      ],
      "outputs": [
        {
          "output_type": "execute_result",
          "data": {
            "text/plain": [
              "               Selling_Price  Present_Price  Kms_Driven  Fuel_Type  \\\n",
              "Selling_Price       1.000000       0.878983    0.029187   0.509467   \n",
              "Present_Price       0.878983       1.000000    0.203647   0.440415   \n",
              "Kms_Driven          0.029187       0.203647    1.000000   0.166801   \n",
              "Fuel_Type           0.509467       0.440415    0.166801   1.000000   \n",
              "Seller_Type        -0.550724      -0.512030   -0.101419  -0.352415   \n",
              "Transmission        0.367128       0.348715    0.162510   0.080466   \n",
              "Owner              -0.088344       0.008057    0.089216  -0.055705   \n",
              "age                -0.236141       0.047584    0.524342  -0.053643   \n",
              "S_Score            -0.066117      -0.022435   -0.017702  -0.125252   \n",
              "\n",
              "               Seller_Type  Transmission     Owner       age   S_Score  \n",
              "Selling_Price    -0.550724      0.367128 -0.088344 -0.236141 -0.066117  \n",
              "Present_Price    -0.512030      0.348715  0.008057  0.047584 -0.022435  \n",
              "Kms_Driven       -0.101419      0.162510  0.089216  0.524342 -0.017702  \n",
              "Fuel_Type        -0.352415      0.080466 -0.055705 -0.053643 -0.125252  \n",
              "Seller_Type       1.000000     -0.063240  0.124269  0.039896  0.062428  \n",
              "Transmission     -0.063240      1.000000  0.050316  0.000394 -0.000414  \n",
              "Owner             0.124269      0.050316  1.000000  0.182104  0.059596  \n",
              "age               0.039896      0.000394  0.182104  1.000000  0.000541  \n",
              "S_Score           0.062428     -0.000414  0.059596  0.000541  1.000000  "
            ],
            "text/html": [
              "<div>\n",
              "<style scoped>\n",
              "    .dataframe tbody tr th:only-of-type {\n",
              "        vertical-align: middle;\n",
              "    }\n",
              "\n",
              "    .dataframe tbody tr th {\n",
              "        vertical-align: top;\n",
              "    }\n",
              "\n",
              "    .dataframe thead th {\n",
              "        text-align: right;\n",
              "    }\n",
              "</style>\n",
              "<table border=\"1\" class=\"dataframe\">\n",
              "  <thead>\n",
              "    <tr style=\"text-align: right;\">\n",
              "      <th></th>\n",
              "      <th>Selling_Price</th>\n",
              "      <th>Present_Price</th>\n",
              "      <th>Kms_Driven</th>\n",
              "      <th>Fuel_Type</th>\n",
              "      <th>Seller_Type</th>\n",
              "      <th>Transmission</th>\n",
              "      <th>Owner</th>\n",
              "      <th>age</th>\n",
              "      <th>S_Score</th>\n",
              "    </tr>\n",
              "  </thead>\n",
              "  <tbody>\n",
              "    <tr>\n",
              "      <th>Selling_Price</th>\n",
              "      <td>1.000000</td>\n",
              "      <td>0.878983</td>\n",
              "      <td>0.029187</td>\n",
              "      <td>0.509467</td>\n",
              "      <td>-0.550724</td>\n",
              "      <td>0.367128</td>\n",
              "      <td>-0.088344</td>\n",
              "      <td>-0.236141</td>\n",
              "      <td>-0.066117</td>\n",
              "    </tr>\n",
              "    <tr>\n",
              "      <th>Present_Price</th>\n",
              "      <td>0.878983</td>\n",
              "      <td>1.000000</td>\n",
              "      <td>0.203647</td>\n",
              "      <td>0.440415</td>\n",
              "      <td>-0.512030</td>\n",
              "      <td>0.348715</td>\n",
              "      <td>0.008057</td>\n",
              "      <td>0.047584</td>\n",
              "      <td>-0.022435</td>\n",
              "    </tr>\n",
              "    <tr>\n",
              "      <th>Kms_Driven</th>\n",
              "      <td>0.029187</td>\n",
              "      <td>0.203647</td>\n",
              "      <td>1.000000</td>\n",
              "      <td>0.166801</td>\n",
              "      <td>-0.101419</td>\n",
              "      <td>0.162510</td>\n",
              "      <td>0.089216</td>\n",
              "      <td>0.524342</td>\n",
              "      <td>-0.017702</td>\n",
              "    </tr>\n",
              "    <tr>\n",
              "      <th>Fuel_Type</th>\n",
              "      <td>0.509467</td>\n",
              "      <td>0.440415</td>\n",
              "      <td>0.166801</td>\n",
              "      <td>1.000000</td>\n",
              "      <td>-0.352415</td>\n",
              "      <td>0.080466</td>\n",
              "      <td>-0.055705</td>\n",
              "      <td>-0.053643</td>\n",
              "      <td>-0.125252</td>\n",
              "    </tr>\n",
              "    <tr>\n",
              "      <th>Seller_Type</th>\n",
              "      <td>-0.550724</td>\n",
              "      <td>-0.512030</td>\n",
              "      <td>-0.101419</td>\n",
              "      <td>-0.352415</td>\n",
              "      <td>1.000000</td>\n",
              "      <td>-0.063240</td>\n",
              "      <td>0.124269</td>\n",
              "      <td>0.039896</td>\n",
              "      <td>0.062428</td>\n",
              "    </tr>\n",
              "    <tr>\n",
              "      <th>Transmission</th>\n",
              "      <td>0.367128</td>\n",
              "      <td>0.348715</td>\n",
              "      <td>0.162510</td>\n",
              "      <td>0.080466</td>\n",
              "      <td>-0.063240</td>\n",
              "      <td>1.000000</td>\n",
              "      <td>0.050316</td>\n",
              "      <td>0.000394</td>\n",
              "      <td>-0.000414</td>\n",
              "    </tr>\n",
              "    <tr>\n",
              "      <th>Owner</th>\n",
              "      <td>-0.088344</td>\n",
              "      <td>0.008057</td>\n",
              "      <td>0.089216</td>\n",
              "      <td>-0.055705</td>\n",
              "      <td>0.124269</td>\n",
              "      <td>0.050316</td>\n",
              "      <td>1.000000</td>\n",
              "      <td>0.182104</td>\n",
              "      <td>0.059596</td>\n",
              "    </tr>\n",
              "    <tr>\n",
              "      <th>age</th>\n",
              "      <td>-0.236141</td>\n",
              "      <td>0.047584</td>\n",
              "      <td>0.524342</td>\n",
              "      <td>-0.053643</td>\n",
              "      <td>0.039896</td>\n",
              "      <td>0.000394</td>\n",
              "      <td>0.182104</td>\n",
              "      <td>1.000000</td>\n",
              "      <td>0.000541</td>\n",
              "    </tr>\n",
              "    <tr>\n",
              "      <th>S_Score</th>\n",
              "      <td>-0.066117</td>\n",
              "      <td>-0.022435</td>\n",
              "      <td>-0.017702</td>\n",
              "      <td>-0.125252</td>\n",
              "      <td>0.062428</td>\n",
              "      <td>-0.000414</td>\n",
              "      <td>0.059596</td>\n",
              "      <td>0.000541</td>\n",
              "      <td>1.000000</td>\n",
              "    </tr>\n",
              "  </tbody>\n",
              "</table>\n",
              "</div>"
            ]
          },
          "metadata": {},
          "execution_count": 9
        }
      ],
      "metadata": {
        "colab": {
          "base_uri": "https://localhost:8080/",
          "height": 328
        },
        "id": "eNXYaoJqff4n",
        "outputId": "9d650da4-43af-4982-a3e3-46277c65ee6a"
      }
    },
    {
      "cell_type": "markdown",
      "source": [
        "## Plotting a Heat Map"
      ],
      "metadata": {}
    },
    {
      "cell_type": "code",
      "execution_count": 15,
      "source": [
        "\n",
        "correlation_matrix = df.corr()\n",
        "plt.figure(figsize=(10,8))\n",
        "plot=sns.heatmap(df.corr(),annot=True,cmap=\"RdYlGn\")"
      ],
      "outputs": [
        {
          "output_type": "display_data",
          "data": {
            "text/plain": [
              "<Figure size 720x576 with 2 Axes>"
            ],
            "image/png": "[encoded data removed]"
          },
          "metadata": {
            "needs_background": "light"
          }
        }
      ],
      "metadata": {
        "colab": {
          "base_uri": "https://localhost:8080/",
          "height": 544
        },
        "id": "0Hgfue6o9lnt",
        "outputId": "6237375e-6c2c-46c3-97a1-a9f0ec52fdbc"
      }
    },
    {
      "cell_type": "markdown",
      "source": [
        "## Dividing the Data_set into Dependent and Independent Variable"
      ],
      "metadata": {}
    },
    {
      "cell_type": "code",
      "execution_count": 25,
      "source": [
        "x = df.iloc[:, [1,2,3,4,5,6,7,8]].values\n",
        "y = df.iloc[:, :1].values"
      ],
      "outputs": [],
      "metadata": {
        "id": "s3IcU5UmSVnr"
      }
    },
    {
      "cell_type": "markdown",
      "source": [
        "## Splitting the dataset into Training and Testing"
      ],
      "metadata": {}
    },
    {
      "cell_type": "code",
      "execution_count": 29,
      "source": [
        "from sklearn.model_selection import train_test_split\n",
        "X_train, X_test, y_train, y_test = train_test_split(x, y, test_size = 0.2, random_state = 0)"
      ],
      "outputs": [],
      "metadata": {
        "id": "Vkqa5aL1TVgW"
      }
    },
    {
      "cell_type": "markdown",
      "source": [
        "## Importing the Standard_Scaler"
      ],
      "metadata": {}
    },
    {
      "cell_type": "code",
      "execution_count": 30,
      "source": [
        "from sklearn.preprocessing import StandardScaler\n",
        "Scale=StandardScaler()"
      ],
      "outputs": [],
      "metadata": {
        "id": "fwOOPvh8Tld7"
      }
    },
    {
      "cell_type": "markdown",
      "source": [
        "## Scaling the Data_Set"
      ],
      "metadata": {}
    },
    {
      "cell_type": "code",
      "execution_count": 31,
      "source": [
        "Scale.fit(X_train)\n",
        "Scale.fit_transform(X_test)"
      ],
      "outputs": [
        {
          "output_type": "execute_result",
          "data": {
            "text/plain": [
              "array([[ 2.40022388e-01,  1.48232869e+00,  1.75119007e+00,\n",
              "        -6.72592709e-01, -4.69041576e-01, -2.98807152e-01,\n",
              "        -4.30594515e-01, -1.42336362e+00],\n",
              "       [-9.54639482e-01, -1.18829417e+00, -5.71040241e-01,\n",
              "         1.48678388e+00, -4.69041576e-01, -2.98807152e-01,\n",
              "         1.09208754e+00,  2.90872597e-01],\n",
              "       [-2.75518657e-01, -2.87590069e-01, -5.71040241e-01,\n",
              "        -6.72592709e-01, -4.69041576e-01, -2.98807152e-01,\n",
              "        -4.30594515e-01, -4.33701472e-01],\n",
              "       [ 5.46560307e-01,  1.61363523e-01,  1.75119007e+00,\n",
              "        -6.72592709e-01, -4.69041576e-01, -2.98807152e-01,\n",
              "        -8.11265028e-01,  5.44178979e-01],\n",
              "       [ 1.68493067e+00, -7.54289625e-01,  1.75119007e+00,\n",
              "        -6.72592709e-01,  2.13200716e+00, -2.98807152e-01,\n",
              "        -1.19193554e+00, -1.64721577e+00],\n",
              "       [-2.37898094e-01, -1.20758326e+00, -5.71040241e-01,\n",
              "        -6.72592709e-01, -4.69041576e-01, -2.98807152e-01,\n",
              "        -8.11265028e-01,  9.74210744e-01],\n",
              "       [-1.23643052e-01,  2.10164923e-01, -5.71040241e-01,\n",
              "        -6.72592709e-01, -4.69041576e-01, -2.98807152e-01,\n",
              "         7.11417025e-01,  5.97196594e-01],\n",
              "       [-9.93096057e-01, -1.42940781e+00, -5.71040241e-01,\n",
              "         1.48678388e+00, -4.69041576e-01, -2.98807152e-01,\n",
              "        -8.11265028e-01, -1.30554669e+00],\n",
              "       [-1.23643052e-01,  6.54967408e-02, -5.71040241e-01,\n",
              "        -6.72592709e-01,  2.13200716e+00, -2.98807152e-01,\n",
              "         3.30746512e-01,  6.38432517e-01],\n",
              "       [ 2.40022388e-01,  2.63209923e-01, -5.71040241e-01,\n",
              "        -6.72592709e-01, -4.69041576e-01, -2.98807152e-01,\n",
              "         7.11417025e-01,  2.22113869e-03],\n",
              "       [-4.28787616e-01, -3.91799383e-01, -5.71040241e-01,\n",
              "        -6.72592709e-01, -4.69041576e-01, -2.98807152e-01,\n",
              "         1.09208754e+00,  1.26286220e+00],\n",
              "       [-9.37361890e-01, -1.45351917e+00, -5.71040241e-01,\n",
              "         1.48678388e+00, -4.69041576e-01, -2.98807152e-01,\n",
              "        -8.11265028e-01,  1.67522143e+00],\n",
              "       [-2.75518657e-01, -5.07678597e-01, -5.71040241e-01,\n",
              "        -6.72592709e-01, -4.69041576e-01, -2.98807152e-01,\n",
              "        -1.19193554e+00, -1.25841993e+00],\n",
              "       [ 3.15263514e-01, -7.54289625e-01, -5.71040241e-01,\n",
              "        -6.72592709e-01,  2.13200716e+00, -2.98807152e-01,\n",
              "        -4.30594515e-01, -6.16317701e-01],\n",
              "       [ 4.33698619e-01,  5.95946742e-01,  1.75119007e+00,\n",
              "        -6.72592709e-01, -4.69041576e-01, -2.98807152e-01,\n",
              "        -8.11265028e-01, -1.00511354e+00],\n",
              "       [ 2.15588438e+00, -9.47180535e-01, -5.71040241e-01,\n",
              "        -6.72592709e-01,  2.13200716e+00, -2.98807152e-01,\n",
              "        -1.19193554e+00, -1.12882131e+00],\n",
              "       [ 1.14620512e-01, -7.51444484e-01, -5.71040241e-01,\n",
              "        -6.72592709e-01,  2.13200716e+00, -2.98807152e-01,\n",
              "        -8.11265028e-01,  7.29112918e-02],\n",
              "       [-1.27823114e-01,  4.51278560e-01, -5.71040241e-01,\n",
              "        -6.72592709e-01, -4.69041576e-01, -2.98807152e-01,\n",
              "        -4.99240017e-02, -1.47049038e+00],\n",
              "       [-9.23428349e-01, -3.09487140e-02, -5.71040241e-01,\n",
              "         1.48678388e+00, -4.69041576e-01, -2.98807152e-01,\n",
              "         1.09208754e+00, -1.23485654e+00],\n",
              "       [-8.16140077e-01, -1.41011872e+00, -5.71040241e-01,\n",
              "         1.48678388e+00, -4.69041576e-01, -2.98807152e-01,\n",
              "        -1.19193554e+00,  8.62284668e-01],\n",
              "       [ 4.63461577e-02,  9.33505834e-01, -5.71040241e-01,\n",
              "        -6.72592709e-01,  2.13200716e+00, -2.98807152e-01,\n",
              "         1.09208754e+00,  1.53384112e+00],\n",
              "       [-2.75518657e-01, -1.30918855e+00, -5.71040241e-01,\n",
              "        -6.72592709e-01, -4.69041576e-01,  3.34664011e+00,\n",
              "        -8.11265028e-01,  9.27083975e-01],\n",
              "       [ 2.40022388e-01,  2.67935750e-01, -5.71040241e-01,\n",
              "        -6.72592709e-01,  2.13200716e+00, -2.98807152e-01,\n",
              "         3.30746512e-01,  8.85848053e-01],\n",
              "       [ 8.25231142e-01, -3.84373083e-01, -5.71040241e-01,\n",
              "        -6.72592709e-01, -4.69041576e-01, -2.98807152e-01,\n",
              "        -8.11265028e-01, -8.61415527e-02],\n",
              "       [-9.65228974e-01,  1.41573311e+00, -5.71040241e-01,\n",
              "         1.48678388e+00, -4.69041576e-01, -2.98807152e-01,\n",
              "         2.23409908e+00,  6.14869132e-01],\n",
              "       [-9.52688786e-01, -1.23651690e+00, -5.71040241e-01,\n",
              "         1.48678388e+00, -4.69041576e-01, -2.98807152e-01,\n",
              "        -1.19193554e+00,  2.73200059e-01],\n",
              "       [-9.60073563e-01,  2.13907402e+00, -5.71040241e-01,\n",
              "         1.48678388e+00, -4.69041576e-01, -2.98807152e-01,\n",
              "         1.09208754e+00, -1.44692700e+00],\n",
              "       [-9.02528036e-01, -3.44396442e-01, -5.71040241e-01,\n",
              "         1.48678388e+00, -4.69041576e-01, -2.98807152e-01,\n",
              "        -4.99240017e-02, -9.10860006e-01],\n",
              "       [-9.31788474e-01, -8.50735080e-01, -5.71040241e-01,\n",
              "         1.48678388e+00, -4.69041576e-01, -2.98807152e-01,\n",
              "         7.11417025e-01,  2.61418367e-01],\n",
              "       [ 1.02587414e+00,  1.89796038e+00, -5.71040241e-01,\n",
              "        -6.72592709e-01,  2.13200716e+00, -2.98807152e-01,\n",
              "         1.85342856e+00,  1.42780589e+00],\n",
              "       [-1.23643052e-01,  1.31928765e+00,  1.75119007e+00,\n",
              "        -6.72592709e-01, -4.69041576e-01,  3.34664011e+00,\n",
              "         1.47275805e+00,  6.61995901e-01],\n",
              "       [ 3.09690097e-01,  8.37060379e-01,  1.75119007e+00,\n",
              "        -6.72592709e-01, -4.69041576e-01, -2.98807152e-01,\n",
              "        -4.99240017e-02, -8.87296621e-01],\n",
              "       [-9.31788474e-01, -2.72062351e-01, -5.71040241e-01,\n",
              "         1.48678388e+00, -4.69041576e-01, -2.98807152e-01,\n",
              "        -4.99240017e-02, -1.32321923e+00],\n",
              "       [ 1.68961325e-01, -5.00011183e-01,  1.75119007e+00,\n",
              "        -6.72592709e-01, -4.69041576e-01, -2.98807152e-01,\n",
              "        -8.11265028e-01, -1.01100439e+00],\n",
              "       [ 3.23623639e-01,  1.87683883e+00, -5.71040241e-01,\n",
              "        -6.72592709e-01, -4.69041576e-01, -2.98807152e-01,\n",
              "         1.85342856e+00, -1.38801854e+00],\n",
              "       [-8.60727411e-01, -1.05809281e+00, -5.71040241e-01,\n",
              "         1.48678388e+00, -4.69041576e-01, -2.98807152e-01,\n",
              "        -8.11265028e-01, -1.50940860e-01],\n",
              "       [ 3.15217830e-03, -7.05970452e-01, -5.71040241e-01,\n",
              "        -6.72592709e-01, -4.69041576e-01, -2.98807152e-01,\n",
              "        -8.11265028e-01,  2.31964136e-01],\n",
              "       [ 2.40524909e-02,  4.51278560e-01,  1.75119007e+00,\n",
              "        -6.72592709e-01, -4.69041576e-01, -2.98807152e-01,\n",
              "        -4.30594515e-01,  1.26875305e+00],\n",
              "       [-9.65228974e-01, -2.23839624e-01, -5.71040241e-01,\n",
              "         1.48678388e+00, -4.69041576e-01,  3.34664011e+00,\n",
              "         2.23409908e+00,  1.43601445e-01],\n",
              "       [ 8.80965309e-01,  1.56040129e+00,  1.75119007e+00,\n",
              "        -6.72592709e-01, -4.69041576e-01, -2.98807152e-01,\n",
              "        -4.99240017e-02, -7.43598605e-02],\n",
              "       [ 2.99936618e-01, -1.37776127e+00,  1.75119007e+00,\n",
              "        -6.72592709e-01, -4.69041576e-01, -2.98807152e-01,\n",
              "        -1.57260606e+00, -3.74793011e-01],\n",
              "       [ 3.94077108e+00,  4.99501287e-01,  1.75119007e+00,\n",
              "        -6.72592709e-01,  2.13200716e+00, -2.98807152e-01,\n",
              "        -4.99240017e-02, -1.26431077e+00],\n",
              "       [-2.75518657e-01, -1.26101404e+00, -5.71040241e-01,\n",
              "        -6.72592709e-01, -4.69041576e-01, -2.98807152e-01,\n",
              "        -4.30594515e-01, -1.23485654e+00],\n",
              "       [-7.62690097e-02,  2.51925805e-01, -5.71040241e-01,\n",
              "        -6.72592709e-01, -4.69041576e-01,  3.34664011e+00,\n",
              "        -4.30594515e-01, -2.15740167e-01],\n",
              "       [ 5.33129286e-02,  6.92392197e-01,  1.75119007e+00,\n",
              "        -6.72592709e-01, -4.69041576e-01, -2.98807152e-01,\n",
              "        -4.99240017e-02, -1.15827554e+00],\n",
              "       [ 8.25231142e-01,  2.55204950e-01,  1.75119007e+00,\n",
              "        -6.72592709e-01, -4.69041576e-01, -2.98807152e-01,\n",
              "        -8.11265028e-01, -1.00511354e+00],\n",
              "       [-9.88915995e-01, -3.09487140e-02, -5.71040241e-01,\n",
              "         1.48678388e+00, -4.69041576e-01, -2.98807152e-01,\n",
              "         3.30746512e-01,  8.91738899e-01],\n",
              "       [-9.06708098e-01, -1.18829417e+00, -5.71040241e-01,\n",
              "         1.48678388e+00, -4.69041576e-01, -2.98807152e-01,\n",
              "        -8.11265028e-01,  1.71056651e+00],\n",
              "       [ 3.09690097e-01,  1.13806664e+00, -5.71040241e-01,\n",
              "        -6.72592709e-01, -4.69041576e-01, -2.98807152e-01,\n",
              "         3.30746512e-01,  1.08024597e+00],\n",
              "       [ 1.29947408e-01,  1.34407018e-01,  1.75119007e+00,\n",
              "        -6.72592709e-01, -4.69041576e-01, -2.98807152e-01,\n",
              "        -4.30594515e-01, -1.69434254e+00],\n",
              "       [ 6.07867891e-01, -7.54289625e-01, -5.71040241e-01,\n",
              "        -6.72592709e-01,  2.13200716e+00, -2.98807152e-01,\n",
              "        -4.99240017e-02, -1.54513996e-02],\n",
              "       [-4.52474637e-01, -8.74846444e-01, -5.71040241e-01,\n",
              "        -6.72592709e-01, -4.69041576e-01, -2.98807152e-01,\n",
              "        -8.11265028e-01,  7.26795208e-01],\n",
              "       [ 2.40022388e-01,  1.42735479e+00, -5.71040241e-01,\n",
              "        -6.72592709e-01, -4.69041576e-01, -2.98807152e-01,\n",
              "         3.30746512e-01,  5.20615595e-01],\n",
              "       [ 3.94077108e+00,  7.88837652e-01,  1.75119007e+00,\n",
              "        -6.72592709e-01,  2.13200716e+00, -2.98807152e-01,\n",
              "        -4.30594515e-01, -2.92321166e-01],\n",
              "       [-8.60727411e-01, -6.09621443e-01, -5.71040241e-01,\n",
              "         1.48678388e+00, -4.69041576e-01, -2.98807152e-01,\n",
              "        -8.11265028e-01, -4.27810626e-01],\n",
              "       [-8.64907473e-01, -2.23839624e-01, -5.71040241e-01,\n",
              "         1.48678388e+00, -4.69041576e-01, -2.98807152e-01,\n",
              "        -4.30594515e-01,  8.56393822e-01],\n",
              "       [-9.60073563e-01, -7.06066898e-01, -5.71040241e-01,\n",
              "         1.48678388e+00, -4.69041576e-01, -2.98807152e-01,\n",
              "         3.30746512e-01,  1.13326359e+00],\n",
              "       [-4.52474637e-01,  1.27106493e+00, -5.71040241e-01,\n",
              "        -6.72592709e-01, -4.69041576e-01, -2.98807152e-01,\n",
              "         1.09208754e+00,  9.97774128e-01],\n",
              "       [-2.51831636e-01,  1.18127421e+00, -5.71040241e-01,\n",
              "        -6.72592709e-01, -4.69041576e-01, -2.98807152e-01,\n",
              "         3.30746512e-01,  1.67522143e+00],\n",
              "       [-5.89023346e-01, -6.81955534e-01, -5.71040241e-01,\n",
              "         1.48678388e+00, -4.69041576e-01,  3.34664011e+00,\n",
              "        -4.99240017e-02,  1.21573543e+00],\n",
              "       [ 8.39164684e-01,  2.13907402e+00, -5.71040241e-01,\n",
              "        -6.72592709e-01, -4.69041576e-01, -2.98807152e-01,\n",
              "         3.37611062e+00,  5.26506441e-01]])"
            ]
          },
          "metadata": {},
          "execution_count": 31
        }
      ],
      "metadata": {
        "colab": {
          "base_uri": "https://localhost:8080/"
        },
        "id": "PJUj2lItdV30",
        "outputId": "a133a542-0d4d-46ec-8557-ae9447a4a031"
      }
    },
    {
      "cell_type": "code",
      "execution_count": 32,
      "source": [
        "from sklearn.ensemble import RandomForestRegressor\n",
        "regressor = RandomForestRegressor(n_estimators = 10, random_state = 0)\n",
        "regressor.fit(X_train, y_train)"
      ],
      "outputs": [
        {
          "output_type": "stream",
          "name": "stderr",
          "text": [
            "/var/folders/5y/3gxzmwjd5v77c960vpr3gf840000gn/T/ipykernel_4809/572084302.py:3: DataConversionWarning: A column-vector y was passed when a 1d array was expected. Please change the shape of y to (n_samples,), for example using ravel().\n",
            "  regressor.fit(X_train, y_train)\n"
          ]
        },
        {
          "output_type": "execute_result",
          "data": {
            "text/plain": [
              "RandomForestRegressor(n_estimators=10, random_state=0)"
            ]
          },
          "metadata": {},
          "execution_count": 32
        }
      ],
      "metadata": {
        "colab": {
          "base_uri": "https://localhost:8080/"
        },
        "id": "8eXVBOv9cgQ7",
        "outputId": "a85a58b6-dae0-4095-c489-d389eed44897"
      }
    },
    {
      "cell_type": "markdown",
      "source": [
        "## Predicting the y values using Random Forest Regressor "
      ],
      "metadata": {}
    },
    {
      "cell_type": "code",
      "execution_count": 33,
      "source": [
        "yhat=regressor.predict(X_test)"
      ],
      "outputs": [],
      "metadata": {
        "id": "Um8qUoQseTcG"
      }
    },
    {
      "cell_type": "code",
      "execution_count": 37,
      "source": [
        "from sklearn.metrics import mean_squared_error,r2_score\n",
        "from sklearn import metrics"
      ],
      "outputs": [],
      "metadata": {
        "id": "jtK_qmD8ejbg"
      }
    },
    {
      "cell_type": "code",
      "execution_count": 36,
      "source": [
        "r=r2_score(y_test,yhat)\n",
        "print(\"R_Squared Value for the Random Forest Regression is \",r)"
      ],
      "outputs": [
        {
          "output_type": "stream",
          "name": "stdout",
          "text": [
            "R_Squared Value for the Random Forest Regression is  0.9508824542046581\n"
          ]
        }
      ],
      "metadata": {
        "id": "E8G31htQeyK1"
      }
    },
    {
      "cell_type": "code",
      "execution_count": null,
      "source": [
        "\n",
        "print('MAE:', metrics.mean_absolute_error(y_test, yhat))\n",
        "print('MSE:', metrics.mean_squared_error(y_test, yhat))\n",
        "print('RMSE:', np.sqrt(metrics.mean_squared_error(y_test, yhat)))"
      ],
      "outputs": [
        {
          "output_type": "stream",
          "name": "stdout",
          "text": [
            "MAE: 0.6514754098360658\n",
            "MSE: 1.1027967540983603\n",
            "RMSE: 1.0501413019676735\n"
          ]
        }
      ],
      "metadata": {
        "colab": {
          "base_uri": "https://localhost:8080/"
        },
        "id": "N7Imjk8hnk-O",
        "outputId": "5b858e36-36dd-4e89-ccb8-65ccbca4057f"
      }
    },
    {
      "cell_type": "markdown",
      "source": [
        "## Plotting the Residuals"
      ],
      "metadata": {}
    },
    {
      "cell_type": "code",
      "execution_count": null,
      "source": [
        "sns.distplot(y_test-yhat)"
      ],
      "outputs": [
        {
          "output_type": "stream",
          "name": "stderr",
          "text": [
            "/usr/local/lib/python3.7/dist-packages/seaborn/distributions.py:2557: FutureWarning: `distplot` is a deprecated function and will be removed in a future version. Please adapt your code to use either `displot` (a figure-level function with similar flexibility) or `histplot` (an axes-level function for histograms).\n",
            "  warnings.warn(msg, FutureWarning)\n"
          ]
        },
        {
          "output_type": "execute_result",
          "data": {
            "text/plain": [
              "<matplotlib.axes._subplots.AxesSubplot at 0x7f215985e6d0>"
            ]
          },
          "metadata": {
            "tags": []
          },
          "execution_count": 25
        },
        {
          "output_type": "display_data",
          "data": {
            "text/plain": [
              "<Figure size 432x288 with 1 Axes>"
            ],
            "image/png": "[encoded data removed]"
          },
          "metadata": {
            "tags": [],
            "needs_background": "light"
          }
        }
      ],
      "metadata": {
        "colab": {
          "base_uri": "https://localhost:8080/",
          "height": 336
        },
        "id": "WFKWdsbinw3j",
        "outputId": "57e46236-b6f6-4679-b458-1cb55ebc9125"
      }
    },
    {
      "cell_type": "markdown",
      "source": [
        "## Original Dependent Values vs Predicted dependent Values"
      ],
      "metadata": {}
    },
    {
      "cell_type": "code",
      "execution_count": null,
      "source": [
        "plt.scatter(y_test,yhat)"
      ],
      "outputs": [
        {
          "output_type": "execute_result",
          "data": {
            "text/plain": [
              "<matplotlib.collections.PathCollection at 0x7f21564a2a50>"
            ]
          },
          "metadata": {
            "tags": []
          },
          "execution_count": 26
        },
        {
          "output_type": "display_data",
          "data": {
            "text/plain": [
              "<Figure size 432x288 with 1 Axes>"
            ],
            "image/png": "[encoded data removed]"
          },
          "metadata": {
            "tags": [],
            "needs_background": "light"
          }
        }
      ],
      "metadata": {
        "colab": {
          "base_uri": "https://localhost:8080/",
          "height": 282
        },
        "id": "G5v8AL1IoC3P",
        "outputId": "d328f447-cd7d-484b-8379-e1ac62f49104"
      }
    },
    {
      "cell_type": "markdown",
      "source": [
        "## Fitting a Lasso Regression"
      ],
      "metadata": {}
    },
    {
      "cell_type": "code",
      "execution_count": 38,
      "source": [
        "from sklearn.linear_model import Lasso\n",
        "\n",
        "#Initializing the Lasso Regressor with Normalization Factor as True\n",
        "lasso_reg = Lasso(normalize=True)\n",
        "\n",
        "#Fitting the Training data to the Lasso regressor\n",
        "lasso_reg.fit(X_train,y_train)\n",
        "\n",
        "#Predicting for X_test\n",
        "y_pred_lass =lasso_reg.predict(X_test)"
      ],
      "outputs": [],
      "metadata": {
        "id": "_u_cnLY60uWi"
      }
    },
    {
      "cell_type": "code",
      "execution_count": 71,
      "source": [
        "print(f\"R_squared value for the lasso regression\",{r2_score(y_test,y_pred_lass)})"
      ],
      "outputs": [
        {
          "output_type": "stream",
          "name": "stdout",
          "text": [
            "R_squared value for the lasso regression {-0.01916292958380983}\n"
          ]
        }
      ],
      "metadata": {
        "colab": {
          "base_uri": "https://localhost:8080/"
        },
        "id": "5fvVkMQ90yfV",
        "outputId": "61efc3a2-690d-4c76-a91c-bc00bc81557c"
      }
    },
    {
      "cell_type": "markdown",
      "source": [
        "## Feature Importance"
      ],
      "metadata": {}
    },
    {
      "cell_type": "code",
      "execution_count": 40,
      "source": [
        "\n",
        "### Feature Importance\n",
        "from sklearn.ensemble import ExtraTreesRegressor\n",
        "model = ExtraTreesRegressor()\n",
        "model.fit(x,y)"
      ],
      "outputs": [
        {
          "output_type": "stream",
          "name": "stderr",
          "text": [
            "/var/folders/5y/3gxzmwjd5v77c960vpr3gf840000gn/T/ipykernel_4809/2863256414.py:5: DataConversionWarning: A column-vector y was passed when a 1d array was expected. Please change the shape of y to (n_samples,), for example using ravel().\n",
            "  model.fit(x,y)\n"
          ]
        },
        {
          "output_type": "execute_result",
          "data": {
            "text/plain": [
              "ExtraTreesRegressor()"
            ]
          },
          "metadata": {},
          "execution_count": 40
        }
      ],
      "metadata": {
        "id": "OsEeJB5g1CWr",
        "colab": {
          "base_uri": "https://localhost:8080/"
        },
        "outputId": "76da6f70-5c9b-4098-9748-26f1b4d4accf"
      }
    },
    {
      "cell_type": "code",
      "execution_count": 41,
      "source": [
        "print(model.feature_importances_)"
      ],
      "outputs": [
        {
          "output_type": "stream",
          "name": "stdout",
          "text": [
            "[0.39847296 0.0357323  0.14047681 0.25893615 0.07782892 0.00059004\n",
            " 0.07679811 0.01116469]\n"
          ]
        }
      ],
      "metadata": {
        "colab": {
          "base_uri": "https://localhost:8080/"
        },
        "id": "uQwDRfXv-XoU",
        "outputId": "d56b2082-9cea-4bbe-a0b0-982f329767a7"
      }
    },
    {
      "cell_type": "code",
      "execution_count": 42,
      "source": [
        "#plot graph of feature importances for better visualization\n",
        "feat_importances = pd.Series(model.feature_importances_, index=X.columns)\n",
        "feat_importances.nlargest(5).plot(kind='barh')\n",
        "plt.show()"
      ],
      "outputs": [
        {
          "output_type": "display_data",
          "data": {
            "text/plain": [
              "<Figure size 432x288 with 1 Axes>"
            ],
            "image/png": "[encoded data removed]"
          },
          "metadata": {
            "needs_background": "light"
          }
        }
      ],
      "metadata": {
        "colab": {
          "base_uri": "https://localhost:8080/",
          "height": 265
        },
        "id": "g0tYDuNk-jKW",
        "outputId": "e404852e-b313-4b27-b5d5-5004aaf5f574"
      }
    },
    {
      "cell_type": "markdown",
      "source": [
        "# Hypertuning the Parameters for Random Forest Regression"
      ],
      "metadata": {}
    },
    {
      "cell_type": "code",
      "execution_count": 43,
      "source": [
        "n_estimators = [int(x) for x in np.linspace(start = 100, stop = 1200, num = 12)]\n",
        "print(n_estimators)\n",
        "\n",
        "from sklearn.model_selection import RandomizedSearchCV\n",
        "\n",
        "\n",
        "#Randomized Search CV\n",
        "\n",
        "# Number of trees in random forest\n",
        "n_estimators = [int(x) for x in np.linspace(start = 100, stop = 1200, num = 12)]\n",
        "# Number of features to consider at every split\n",
        "max_features = ['auto', 'sqrt']\n",
        "# Maximum number of levels in tree\n",
        "max_depth = [int(x) for x in np.linspace(5, 30, num = 6)]\n",
        "# max_depth.append(None)\n",
        "# Minimum number of samples required to split a node\n",
        "min_samples_split = [2, 5, 10, 15, 100]\n",
        "# Minimum number of samples required at each leaf node\n",
        "min_samples_leaf = [1, 2, 5, 10]\n",
        "\n",
        "\n",
        "# Create the random grid\n",
        "random_grid = {'n_estimators': n_estimators,\n",
        "               'max_features': max_features,\n",
        "               'max_depth': max_depth,\n",
        "               'min_samples_split': min_samples_split,\n",
        "               'min_samples_leaf': min_samples_leaf}\n",
        "\n",
        "print(random_grid)"
      ],
      "outputs": [
        {
          "output_type": "stream",
          "name": "stdout",
          "text": [
            "[100, 200, 300, 400, 500, 600, 700, 800, 900, 1000, 1100, 1200]\n",
            "{'n_estimators': [100, 200, 300, 400, 500, 600, 700, 800, 900, 1000, 1100, 1200], 'max_features': ['auto', 'sqrt'], 'max_depth': [5, 10, 15, 20, 25, 30], 'min_samples_split': [2, 5, 10, 15, 100], 'min_samples_leaf': [1, 2, 5, 10]}\n"
          ]
        }
      ],
      "metadata": {
        "colab": {
          "base_uri": "https://localhost:8080/"
        },
        "id": "hxJh9ufD_VLL",
        "outputId": "f2074007-55d4-4f6f-f975-2f62b4cc4efd"
      }
    },
    {
      "cell_type": "markdown",
      "source": [
        "## Setting the params"
      ],
      "metadata": {}
    },
    {
      "cell_type": "code",
      "execution_count": 44,
      "source": [
        "# initializing the Random Forest Regression\n",
        "rf = RandomForestRegressor()\n",
        "# Random search of parameters, using 3 fold cross validation, \n",
        "# search across 100 different combinations\n",
        "rf_random = RandomizedSearchCV(estimator = rf, param_distributions = random_grid,scoring='neg_mean_squared_error', n_iter = 10, cv = 5, verbose=2, random_state=42, n_jobs = 1)"
      ],
      "outputs": [],
      "metadata": {
        "id": "GjBqRYcY_kCH"
      }
    },
    {
      "cell_type": "markdown",
      "source": [
        "## Applying the Settings to data"
      ],
      "metadata": {}
    },
    {
      "cell_type": "code",
      "execution_count": 46,
      "source": [
        "rf_random.fit(X_train,y_train)"
      ],
      "outputs": [
        {
          "output_type": "stream",
          "name": "stdout",
          "text": [
            "Fitting 5 folds for each of 10 candidates, totalling 50 fits\n"
          ]
        },
        {
          "output_type": "stream",
          "name": "stderr",
          "text": [
            "/Library/Frameworks/Python.framework/Versions/3.9/lib/python3.9/site-packages/sklearn/model_selection/_validation.py:598: DataConversionWarning: A column-vector y was passed when a 1d array was expected. Please change the shape of y to (n_samples,), for example using ravel().\n",
            "  estimator.fit(X_train, y_train, **fit_params)\n"
          ]
        },
        {
          "output_type": "stream",
          "name": "stdout",
          "text": [
            "[CV] END max_depth=10, max_features=sqrt, min_samples_leaf=5, min_samples_split=5, n_estimators=900; total time=   0.6s\n"
          ]
        },
        {
          "output_type": "stream",
          "name": "stderr",
          "text": [
            "/Library/Frameworks/Python.framework/Versions/3.9/lib/python3.9/site-packages/sklearn/model_selection/_validation.py:598: DataConversionWarning: A column-vector y was passed when a 1d array was expected. Please change the shape of y to (n_samples,), for example using ravel().\n",
            "  estimator.fit(X_train, y_train, **fit_params)\n"
          ]
        },
        {
          "output_type": "stream",
          "name": "stdout",
          "text": [
            "[CV] END max_depth=10, max_features=sqrt, min_samples_leaf=5, min_samples_split=5, n_estimators=900; total time=   0.6s\n"
          ]
        },
        {
          "output_type": "stream",
          "name": "stderr",
          "text": [
            "/Library/Frameworks/Python.framework/Versions/3.9/lib/python3.9/site-packages/sklearn/model_selection/_validation.py:598: DataConversionWarning: A column-vector y was passed when a 1d array was expected. Please change the shape of y to (n_samples,), for example using ravel().\n",
            "  estimator.fit(X_train, y_train, **fit_params)\n"
          ]
        },
        {
          "output_type": "stream",
          "name": "stdout",
          "text": [
            "[CV] END max_depth=10, max_features=sqrt, min_samples_leaf=5, min_samples_split=5, n_estimators=900; total time=   0.6s\n"
          ]
        },
        {
          "output_type": "stream",
          "name": "stderr",
          "text": [
            "/Library/Frameworks/Python.framework/Versions/3.9/lib/python3.9/site-packages/sklearn/model_selection/_validation.py:598: DataConversionWarning: A column-vector y was passed when a 1d array was expected. Please change the shape of y to (n_samples,), for example using ravel().\n",
            "  estimator.fit(X_train, y_train, **fit_params)\n"
          ]
        },
        {
          "output_type": "stream",
          "name": "stdout",
          "text": [
            "[CV] END max_depth=10, max_features=sqrt, min_samples_leaf=5, min_samples_split=5, n_estimators=900; total time=   0.6s\n"
          ]
        },
        {
          "output_type": "stream",
          "name": "stderr",
          "text": [
            "/Library/Frameworks/Python.framework/Versions/3.9/lib/python3.9/site-packages/sklearn/model_selection/_validation.py:598: DataConversionWarning: A column-vector y was passed when a 1d array was expected. Please change the shape of y to (n_samples,), for example using ravel().\n",
            "  estimator.fit(X_train, y_train, **fit_params)\n"
          ]
        },
        {
          "output_type": "stream",
          "name": "stdout",
          "text": [
            "[CV] END max_depth=10, max_features=sqrt, min_samples_leaf=5, min_samples_split=5, n_estimators=900; total time=   0.6s\n"
          ]
        },
        {
          "output_type": "stream",
          "name": "stderr",
          "text": [
            "/Library/Frameworks/Python.framework/Versions/3.9/lib/python3.9/site-packages/sklearn/model_selection/_validation.py:598: DataConversionWarning: A column-vector y was passed when a 1d array was expected. Please change the shape of y to (n_samples,), for example using ravel().\n",
            "  estimator.fit(X_train, y_train, **fit_params)\n"
          ]
        },
        {
          "output_type": "stream",
          "name": "stdout",
          "text": [
            "[CV] END max_depth=15, max_features=sqrt, min_samples_leaf=2, min_samples_split=10, n_estimators=1100; total time=   0.7s\n"
          ]
        },
        {
          "output_type": "stream",
          "name": "stderr",
          "text": [
            "/Library/Frameworks/Python.framework/Versions/3.9/lib/python3.9/site-packages/sklearn/model_selection/_validation.py:598: DataConversionWarning: A column-vector y was passed when a 1d array was expected. Please change the shape of y to (n_samples,), for example using ravel().\n",
            "  estimator.fit(X_train, y_train, **fit_params)\n"
          ]
        },
        {
          "output_type": "stream",
          "name": "stdout",
          "text": [
            "[CV] END max_depth=15, max_features=sqrt, min_samples_leaf=2, min_samples_split=10, n_estimators=1100; total time=   0.7s\n"
          ]
        },
        {
          "output_type": "stream",
          "name": "stderr",
          "text": [
            "/Library/Frameworks/Python.framework/Versions/3.9/lib/python3.9/site-packages/sklearn/model_selection/_validation.py:598: DataConversionWarning: A column-vector y was passed when a 1d array was expected. Please change the shape of y to (n_samples,), for example using ravel().\n",
            "  estimator.fit(X_train, y_train, **fit_params)\n"
          ]
        },
        {
          "output_type": "stream",
          "name": "stdout",
          "text": [
            "[CV] END max_depth=15, max_features=sqrt, min_samples_leaf=2, min_samples_split=10, n_estimators=1100; total time=   0.7s\n"
          ]
        },
        {
          "output_type": "stream",
          "name": "stderr",
          "text": [
            "/Library/Frameworks/Python.framework/Versions/3.9/lib/python3.9/site-packages/sklearn/model_selection/_validation.py:598: DataConversionWarning: A column-vector y was passed when a 1d array was expected. Please change the shape of y to (n_samples,), for example using ravel().\n",
            "  estimator.fit(X_train, y_train, **fit_params)\n"
          ]
        },
        {
          "output_type": "stream",
          "name": "stdout",
          "text": [
            "[CV] END max_depth=15, max_features=sqrt, min_samples_leaf=2, min_samples_split=10, n_estimators=1100; total time=   0.7s\n"
          ]
        },
        {
          "output_type": "stream",
          "name": "stderr",
          "text": [
            "/Library/Frameworks/Python.framework/Versions/3.9/lib/python3.9/site-packages/sklearn/model_selection/_validation.py:598: DataConversionWarning: A column-vector y was passed when a 1d array was expected. Please change the shape of y to (n_samples,), for example using ravel().\n",
            "  estimator.fit(X_train, y_train, **fit_params)\n"
          ]
        },
        {
          "output_type": "stream",
          "name": "stdout",
          "text": [
            "[CV] END max_depth=15, max_features=sqrt, min_samples_leaf=2, min_samples_split=10, n_estimators=1100; total time=   0.7s\n",
            "[CV] END max_depth=15, max_features=auto, min_samples_leaf=5, min_samples_split=100, n_estimators=300; total time=   0.2s\n"
          ]
        },
        {
          "output_type": "stream",
          "name": "stderr",
          "text": [
            "/Library/Frameworks/Python.framework/Versions/3.9/lib/python3.9/site-packages/sklearn/model_selection/_validation.py:598: DataConversionWarning: A column-vector y was passed when a 1d array was expected. Please change the shape of y to (n_samples,), for example using ravel().\n",
            "  estimator.fit(X_train, y_train, **fit_params)\n",
            "/Library/Frameworks/Python.framework/Versions/3.9/lib/python3.9/site-packages/sklearn/model_selection/_validation.py:598: DataConversionWarning: A column-vector y was passed when a 1d array was expected. Please change the shape of y to (n_samples,), for example using ravel().\n",
            "  estimator.fit(X_train, y_train, **fit_params)\n"
          ]
        },
        {
          "output_type": "stream",
          "name": "stdout",
          "text": [
            "[CV] END max_depth=15, max_features=auto, min_samples_leaf=5, min_samples_split=100, n_estimators=300; total time=   0.2s\n",
            "[CV] END max_depth=15, max_features=auto, min_samples_leaf=5, min_samples_split=100, n_estimators=300; total time=   0.2s\n"
          ]
        },
        {
          "output_type": "stream",
          "name": "stderr",
          "text": [
            "/Library/Frameworks/Python.framework/Versions/3.9/lib/python3.9/site-packages/sklearn/model_selection/_validation.py:598: DataConversionWarning: A column-vector y was passed when a 1d array was expected. Please change the shape of y to (n_samples,), for example using ravel().\n",
            "  estimator.fit(X_train, y_train, **fit_params)\n",
            "/Library/Frameworks/Python.framework/Versions/3.9/lib/python3.9/site-packages/sklearn/model_selection/_validation.py:598: DataConversionWarning: A column-vector y was passed when a 1d array was expected. Please change the shape of y to (n_samples,), for example using ravel().\n",
            "  estimator.fit(X_train, y_train, **fit_params)\n"
          ]
        },
        {
          "output_type": "stream",
          "name": "stdout",
          "text": [
            "[CV] END max_depth=15, max_features=auto, min_samples_leaf=5, min_samples_split=100, n_estimators=300; total time=   0.2s\n",
            "[CV] END max_depth=15, max_features=auto, min_samples_leaf=5, min_samples_split=100, n_estimators=300; total time=   0.2s\n"
          ]
        },
        {
          "output_type": "stream",
          "name": "stderr",
          "text": [
            "/Library/Frameworks/Python.framework/Versions/3.9/lib/python3.9/site-packages/sklearn/model_selection/_validation.py:598: DataConversionWarning: A column-vector y was passed when a 1d array was expected. Please change the shape of y to (n_samples,), for example using ravel().\n",
            "  estimator.fit(X_train, y_train, **fit_params)\n",
            "/Library/Frameworks/Python.framework/Versions/3.9/lib/python3.9/site-packages/sklearn/model_selection/_validation.py:598: DataConversionWarning: A column-vector y was passed when a 1d array was expected. Please change the shape of y to (n_samples,), for example using ravel().\n",
            "  estimator.fit(X_train, y_train, **fit_params)\n"
          ]
        },
        {
          "output_type": "stream",
          "name": "stdout",
          "text": [
            "[CV] END max_depth=15, max_features=auto, min_samples_leaf=5, min_samples_split=5, n_estimators=400; total time=   0.3s\n"
          ]
        },
        {
          "output_type": "stream",
          "name": "stderr",
          "text": [
            "/Library/Frameworks/Python.framework/Versions/3.9/lib/python3.9/site-packages/sklearn/model_selection/_validation.py:598: DataConversionWarning: A column-vector y was passed when a 1d array was expected. Please change the shape of y to (n_samples,), for example using ravel().\n",
            "  estimator.fit(X_train, y_train, **fit_params)\n"
          ]
        },
        {
          "output_type": "stream",
          "name": "stdout",
          "text": [
            "[CV] END max_depth=15, max_features=auto, min_samples_leaf=5, min_samples_split=5, n_estimators=400; total time=   0.3s\n"
          ]
        },
        {
          "output_type": "stream",
          "name": "stderr",
          "text": [
            "/Library/Frameworks/Python.framework/Versions/3.9/lib/python3.9/site-packages/sklearn/model_selection/_validation.py:598: DataConversionWarning: A column-vector y was passed when a 1d array was expected. Please change the shape of y to (n_samples,), for example using ravel().\n",
            "  estimator.fit(X_train, y_train, **fit_params)\n"
          ]
        },
        {
          "output_type": "stream",
          "name": "stdout",
          "text": [
            "[CV] END max_depth=15, max_features=auto, min_samples_leaf=5, min_samples_split=5, n_estimators=400; total time=   0.3s\n"
          ]
        },
        {
          "output_type": "stream",
          "name": "stderr",
          "text": [
            "/Library/Frameworks/Python.framework/Versions/3.9/lib/python3.9/site-packages/sklearn/model_selection/_validation.py:598: DataConversionWarning: A column-vector y was passed when a 1d array was expected. Please change the shape of y to (n_samples,), for example using ravel().\n",
            "  estimator.fit(X_train, y_train, **fit_params)\n"
          ]
        },
        {
          "output_type": "stream",
          "name": "stdout",
          "text": [
            "[CV] END max_depth=15, max_features=auto, min_samples_leaf=5, min_samples_split=5, n_estimators=400; total time=   0.3s\n"
          ]
        },
        {
          "output_type": "stream",
          "name": "stderr",
          "text": [
            "/Library/Frameworks/Python.framework/Versions/3.9/lib/python3.9/site-packages/sklearn/model_selection/_validation.py:598: DataConversionWarning: A column-vector y was passed when a 1d array was expected. Please change the shape of y to (n_samples,), for example using ravel().\n",
            "  estimator.fit(X_train, y_train, **fit_params)\n"
          ]
        },
        {
          "output_type": "stream",
          "name": "stdout",
          "text": [
            "[CV] END max_depth=15, max_features=auto, min_samples_leaf=5, min_samples_split=5, n_estimators=400; total time=   0.3s\n"
          ]
        },
        {
          "output_type": "stream",
          "name": "stderr",
          "text": [
            "/Library/Frameworks/Python.framework/Versions/3.9/lib/python3.9/site-packages/sklearn/model_selection/_validation.py:598: DataConversionWarning: A column-vector y was passed when a 1d array was expected. Please change the shape of y to (n_samples,), for example using ravel().\n",
            "  estimator.fit(X_train, y_train, **fit_params)\n"
          ]
        },
        {
          "output_type": "stream",
          "name": "stdout",
          "text": [
            "[CV] END max_depth=20, max_features=auto, min_samples_leaf=10, min_samples_split=5, n_estimators=700; total time=   0.5s\n"
          ]
        },
        {
          "output_type": "stream",
          "name": "stderr",
          "text": [
            "/Library/Frameworks/Python.framework/Versions/3.9/lib/python3.9/site-packages/sklearn/model_selection/_validation.py:598: DataConversionWarning: A column-vector y was passed when a 1d array was expected. Please change the shape of y to (n_samples,), for example using ravel().\n",
            "  estimator.fit(X_train, y_train, **fit_params)\n"
          ]
        },
        {
          "output_type": "stream",
          "name": "stdout",
          "text": [
            "[CV] END max_depth=20, max_features=auto, min_samples_leaf=10, min_samples_split=5, n_estimators=700; total time=   0.5s\n"
          ]
        },
        {
          "output_type": "stream",
          "name": "stderr",
          "text": [
            "/Library/Frameworks/Python.framework/Versions/3.9/lib/python3.9/site-packages/sklearn/model_selection/_validation.py:598: DataConversionWarning: A column-vector y was passed when a 1d array was expected. Please change the shape of y to (n_samples,), for example using ravel().\n",
            "  estimator.fit(X_train, y_train, **fit_params)\n"
          ]
        },
        {
          "output_type": "stream",
          "name": "stdout",
          "text": [
            "[CV] END max_depth=20, max_features=auto, min_samples_leaf=10, min_samples_split=5, n_estimators=700; total time=   0.5s\n"
          ]
        },
        {
          "output_type": "stream",
          "name": "stderr",
          "text": [
            "/Library/Frameworks/Python.framework/Versions/3.9/lib/python3.9/site-packages/sklearn/model_selection/_validation.py:598: DataConversionWarning: A column-vector y was passed when a 1d array was expected. Please change the shape of y to (n_samples,), for example using ravel().\n",
            "  estimator.fit(X_train, y_train, **fit_params)\n"
          ]
        },
        {
          "output_type": "stream",
          "name": "stdout",
          "text": [
            "[CV] END max_depth=20, max_features=auto, min_samples_leaf=10, min_samples_split=5, n_estimators=700; total time=   0.5s\n"
          ]
        },
        {
          "output_type": "stream",
          "name": "stderr",
          "text": [
            "/Library/Frameworks/Python.framework/Versions/3.9/lib/python3.9/site-packages/sklearn/model_selection/_validation.py:598: DataConversionWarning: A column-vector y was passed when a 1d array was expected. Please change the shape of y to (n_samples,), for example using ravel().\n",
            "  estimator.fit(X_train, y_train, **fit_params)\n"
          ]
        },
        {
          "output_type": "stream",
          "name": "stdout",
          "text": [
            "[CV] END max_depth=20, max_features=auto, min_samples_leaf=10, min_samples_split=5, n_estimators=700; total time=   0.5s\n"
          ]
        },
        {
          "output_type": "stream",
          "name": "stderr",
          "text": [
            "/Library/Frameworks/Python.framework/Versions/3.9/lib/python3.9/site-packages/sklearn/model_selection/_validation.py:598: DataConversionWarning: A column-vector y was passed when a 1d array was expected. Please change the shape of y to (n_samples,), for example using ravel().\n",
            "  estimator.fit(X_train, y_train, **fit_params)\n"
          ]
        },
        {
          "output_type": "stream",
          "name": "stdout",
          "text": [
            "[CV] END max_depth=25, max_features=sqrt, min_samples_leaf=1, min_samples_split=2, n_estimators=1000; total time=   0.7s\n"
          ]
        },
        {
          "output_type": "stream",
          "name": "stderr",
          "text": [
            "/Library/Frameworks/Python.framework/Versions/3.9/lib/python3.9/site-packages/sklearn/model_selection/_validation.py:598: DataConversionWarning: A column-vector y was passed when a 1d array was expected. Please change the shape of y to (n_samples,), for example using ravel().\n",
            "  estimator.fit(X_train, y_train, **fit_params)\n"
          ]
        },
        {
          "output_type": "stream",
          "name": "stdout",
          "text": [
            "[CV] END max_depth=25, max_features=sqrt, min_samples_leaf=1, min_samples_split=2, n_estimators=1000; total time=   0.7s\n"
          ]
        },
        {
          "output_type": "stream",
          "name": "stderr",
          "text": [
            "/Library/Frameworks/Python.framework/Versions/3.9/lib/python3.9/site-packages/sklearn/model_selection/_validation.py:598: DataConversionWarning: A column-vector y was passed when a 1d array was expected. Please change the shape of y to (n_samples,), for example using ravel().\n",
            "  estimator.fit(X_train, y_train, **fit_params)\n"
          ]
        },
        {
          "output_type": "stream",
          "name": "stdout",
          "text": [
            "[CV] END max_depth=25, max_features=sqrt, min_samples_leaf=1, min_samples_split=2, n_estimators=1000; total time=   0.7s\n"
          ]
        },
        {
          "output_type": "stream",
          "name": "stderr",
          "text": [
            "/Library/Frameworks/Python.framework/Versions/3.9/lib/python3.9/site-packages/sklearn/model_selection/_validation.py:598: DataConversionWarning: A column-vector y was passed when a 1d array was expected. Please change the shape of y to (n_samples,), for example using ravel().\n",
            "  estimator.fit(X_train, y_train, **fit_params)\n"
          ]
        },
        {
          "output_type": "stream",
          "name": "stdout",
          "text": [
            "[CV] END max_depth=25, max_features=sqrt, min_samples_leaf=1, min_samples_split=2, n_estimators=1000; total time=   0.7s\n"
          ]
        },
        {
          "output_type": "stream",
          "name": "stderr",
          "text": [
            "/Library/Frameworks/Python.framework/Versions/3.9/lib/python3.9/site-packages/sklearn/model_selection/_validation.py:598: DataConversionWarning: A column-vector y was passed when a 1d array was expected. Please change the shape of y to (n_samples,), for example using ravel().\n",
            "  estimator.fit(X_train, y_train, **fit_params)\n"
          ]
        },
        {
          "output_type": "stream",
          "name": "stdout",
          "text": [
            "[CV] END max_depth=25, max_features=sqrt, min_samples_leaf=1, min_samples_split=2, n_estimators=1000; total time=   0.7s\n"
          ]
        },
        {
          "output_type": "stream",
          "name": "stderr",
          "text": [
            "/Library/Frameworks/Python.framework/Versions/3.9/lib/python3.9/site-packages/sklearn/model_selection/_validation.py:598: DataConversionWarning: A column-vector y was passed when a 1d array was expected. Please change the shape of y to (n_samples,), for example using ravel().\n",
            "  estimator.fit(X_train, y_train, **fit_params)\n"
          ]
        },
        {
          "output_type": "stream",
          "name": "stdout",
          "text": [
            "[CV] END max_depth=5, max_features=sqrt, min_samples_leaf=10, min_samples_split=15, n_estimators=1100; total time=   0.7s\n"
          ]
        },
        {
          "output_type": "stream",
          "name": "stderr",
          "text": [
            "/Library/Frameworks/Python.framework/Versions/3.9/lib/python3.9/site-packages/sklearn/model_selection/_validation.py:598: DataConversionWarning: A column-vector y was passed when a 1d array was expected. Please change the shape of y to (n_samples,), for example using ravel().\n",
            "  estimator.fit(X_train, y_train, **fit_params)\n"
          ]
        },
        {
          "output_type": "stream",
          "name": "stdout",
          "text": [
            "[CV] END max_depth=5, max_features=sqrt, min_samples_leaf=10, min_samples_split=15, n_estimators=1100; total time=   0.7s\n"
          ]
        },
        {
          "output_type": "stream",
          "name": "stderr",
          "text": [
            "/Library/Frameworks/Python.framework/Versions/3.9/lib/python3.9/site-packages/sklearn/model_selection/_validation.py:598: DataConversionWarning: A column-vector y was passed when a 1d array was expected. Please change the shape of y to (n_samples,), for example using ravel().\n",
            "  estimator.fit(X_train, y_train, **fit_params)\n"
          ]
        },
        {
          "output_type": "stream",
          "name": "stdout",
          "text": [
            "[CV] END max_depth=5, max_features=sqrt, min_samples_leaf=10, min_samples_split=15, n_estimators=1100; total time=   0.8s\n"
          ]
        },
        {
          "output_type": "stream",
          "name": "stderr",
          "text": [
            "/Library/Frameworks/Python.framework/Versions/3.9/lib/python3.9/site-packages/sklearn/model_selection/_validation.py:598: DataConversionWarning: A column-vector y was passed when a 1d array was expected. Please change the shape of y to (n_samples,), for example using ravel().\n",
            "  estimator.fit(X_train, y_train, **fit_params)\n"
          ]
        },
        {
          "output_type": "stream",
          "name": "stdout",
          "text": [
            "[CV] END max_depth=5, max_features=sqrt, min_samples_leaf=10, min_samples_split=15, n_estimators=1100; total time=   0.7s\n"
          ]
        },
        {
          "output_type": "stream",
          "name": "stderr",
          "text": [
            "/Library/Frameworks/Python.framework/Versions/3.9/lib/python3.9/site-packages/sklearn/model_selection/_validation.py:598: DataConversionWarning: A column-vector y was passed when a 1d array was expected. Please change the shape of y to (n_samples,), for example using ravel().\n",
            "  estimator.fit(X_train, y_train, **fit_params)\n"
          ]
        },
        {
          "output_type": "stream",
          "name": "stdout",
          "text": [
            "[CV] END max_depth=5, max_features=sqrt, min_samples_leaf=10, min_samples_split=15, n_estimators=1100; total time=   0.7s\n",
            "[CV] END max_depth=15, max_features=sqrt, min_samples_leaf=1, min_samples_split=15, n_estimators=300; total time=   0.2s\n"
          ]
        },
        {
          "output_type": "stream",
          "name": "stderr",
          "text": [
            "/Library/Frameworks/Python.framework/Versions/3.9/lib/python3.9/site-packages/sklearn/model_selection/_validation.py:598: DataConversionWarning: A column-vector y was passed when a 1d array was expected. Please change the shape of y to (n_samples,), for example using ravel().\n",
            "  estimator.fit(X_train, y_train, **fit_params)\n",
            "/Library/Frameworks/Python.framework/Versions/3.9/lib/python3.9/site-packages/sklearn/model_selection/_validation.py:598: DataConversionWarning: A column-vector y was passed when a 1d array was expected. Please change the shape of y to (n_samples,), for example using ravel().\n",
            "  estimator.fit(X_train, y_train, **fit_params)\n"
          ]
        },
        {
          "output_type": "stream",
          "name": "stdout",
          "text": [
            "[CV] END max_depth=15, max_features=sqrt, min_samples_leaf=1, min_samples_split=15, n_estimators=300; total time=   0.2s\n",
            "[CV] END max_depth=15, max_features=sqrt, min_samples_leaf=1, min_samples_split=15, n_estimators=300; total time=   0.2s\n"
          ]
        },
        {
          "output_type": "stream",
          "name": "stderr",
          "text": [
            "/Library/Frameworks/Python.framework/Versions/3.9/lib/python3.9/site-packages/sklearn/model_selection/_validation.py:598: DataConversionWarning: A column-vector y was passed when a 1d array was expected. Please change the shape of y to (n_samples,), for example using ravel().\n",
            "  estimator.fit(X_train, y_train, **fit_params)\n",
            "/Library/Frameworks/Python.framework/Versions/3.9/lib/python3.9/site-packages/sklearn/model_selection/_validation.py:598: DataConversionWarning: A column-vector y was passed when a 1d array was expected. Please change the shape of y to (n_samples,), for example using ravel().\n",
            "  estimator.fit(X_train, y_train, **fit_params)\n"
          ]
        },
        {
          "output_type": "stream",
          "name": "stdout",
          "text": [
            "[CV] END max_depth=15, max_features=sqrt, min_samples_leaf=1, min_samples_split=15, n_estimators=300; total time=   0.2s\n",
            "[CV] END max_depth=15, max_features=sqrt, min_samples_leaf=1, min_samples_split=15, n_estimators=300; total time=   0.2s\n"
          ]
        },
        {
          "output_type": "stream",
          "name": "stderr",
          "text": [
            "/Library/Frameworks/Python.framework/Versions/3.9/lib/python3.9/site-packages/sklearn/model_selection/_validation.py:598: DataConversionWarning: A column-vector y was passed when a 1d array was expected. Please change the shape of y to (n_samples,), for example using ravel().\n",
            "  estimator.fit(X_train, y_train, **fit_params)\n",
            "/Library/Frameworks/Python.framework/Versions/3.9/lib/python3.9/site-packages/sklearn/model_selection/_validation.py:598: DataConversionWarning: A column-vector y was passed when a 1d array was expected. Please change the shape of y to (n_samples,), for example using ravel().\n",
            "  estimator.fit(X_train, y_train, **fit_params)\n"
          ]
        },
        {
          "output_type": "stream",
          "name": "stdout",
          "text": [
            "[CV] END max_depth=5, max_features=sqrt, min_samples_leaf=2, min_samples_split=10, n_estimators=700; total time=   0.5s\n"
          ]
        },
        {
          "output_type": "stream",
          "name": "stderr",
          "text": [
            "/Library/Frameworks/Python.framework/Versions/3.9/lib/python3.9/site-packages/sklearn/model_selection/_validation.py:598: DataConversionWarning: A column-vector y was passed when a 1d array was expected. Please change the shape of y to (n_samples,), for example using ravel().\n",
            "  estimator.fit(X_train, y_train, **fit_params)\n"
          ]
        },
        {
          "output_type": "stream",
          "name": "stdout",
          "text": [
            "[CV] END max_depth=5, max_features=sqrt, min_samples_leaf=2, min_samples_split=10, n_estimators=700; total time=   0.5s\n"
          ]
        },
        {
          "output_type": "stream",
          "name": "stderr",
          "text": [
            "/Library/Frameworks/Python.framework/Versions/3.9/lib/python3.9/site-packages/sklearn/model_selection/_validation.py:598: DataConversionWarning: A column-vector y was passed when a 1d array was expected. Please change the shape of y to (n_samples,), for example using ravel().\n",
            "  estimator.fit(X_train, y_train, **fit_params)\n"
          ]
        },
        {
          "output_type": "stream",
          "name": "stdout",
          "text": [
            "[CV] END max_depth=5, max_features=sqrt, min_samples_leaf=2, min_samples_split=10, n_estimators=700; total time=   0.5s\n"
          ]
        },
        {
          "output_type": "stream",
          "name": "stderr",
          "text": [
            "/Library/Frameworks/Python.framework/Versions/3.9/lib/python3.9/site-packages/sklearn/model_selection/_validation.py:598: DataConversionWarning: A column-vector y was passed when a 1d array was expected. Please change the shape of y to (n_samples,), for example using ravel().\n",
            "  estimator.fit(X_train, y_train, **fit_params)\n"
          ]
        },
        {
          "output_type": "stream",
          "name": "stdout",
          "text": [
            "[CV] END max_depth=5, max_features=sqrt, min_samples_leaf=2, min_samples_split=10, n_estimators=700; total time=   0.5s\n"
          ]
        },
        {
          "output_type": "stream",
          "name": "stderr",
          "text": [
            "/Library/Frameworks/Python.framework/Versions/3.9/lib/python3.9/site-packages/sklearn/model_selection/_validation.py:598: DataConversionWarning: A column-vector y was passed when a 1d array was expected. Please change the shape of y to (n_samples,), for example using ravel().\n",
            "  estimator.fit(X_train, y_train, **fit_params)\n"
          ]
        },
        {
          "output_type": "stream",
          "name": "stdout",
          "text": [
            "[CV] END max_depth=5, max_features=sqrt, min_samples_leaf=2, min_samples_split=10, n_estimators=700; total time=   0.5s\n"
          ]
        },
        {
          "output_type": "stream",
          "name": "stderr",
          "text": [
            "/Library/Frameworks/Python.framework/Versions/3.9/lib/python3.9/site-packages/sklearn/model_selection/_validation.py:598: DataConversionWarning: A column-vector y was passed when a 1d array was expected. Please change the shape of y to (n_samples,), for example using ravel().\n",
            "  estimator.fit(X_train, y_train, **fit_params)\n"
          ]
        },
        {
          "output_type": "stream",
          "name": "stdout",
          "text": [
            "[CV] END max_depth=20, max_features=auto, min_samples_leaf=1, min_samples_split=15, n_estimators=700; total time=   0.5s\n"
          ]
        },
        {
          "output_type": "stream",
          "name": "stderr",
          "text": [
            "/Library/Frameworks/Python.framework/Versions/3.9/lib/python3.9/site-packages/sklearn/model_selection/_validation.py:598: DataConversionWarning: A column-vector y was passed when a 1d array was expected. Please change the shape of y to (n_samples,), for example using ravel().\n",
            "  estimator.fit(X_train, y_train, **fit_params)\n"
          ]
        },
        {
          "output_type": "stream",
          "name": "stdout",
          "text": [
            "[CV] END max_depth=20, max_features=auto, min_samples_leaf=1, min_samples_split=15, n_estimators=700; total time=   0.5s\n"
          ]
        },
        {
          "output_type": "stream",
          "name": "stderr",
          "text": [
            "/Library/Frameworks/Python.framework/Versions/3.9/lib/python3.9/site-packages/sklearn/model_selection/_validation.py:598: DataConversionWarning: A column-vector y was passed when a 1d array was expected. Please change the shape of y to (n_samples,), for example using ravel().\n",
            "  estimator.fit(X_train, y_train, **fit_params)\n"
          ]
        },
        {
          "output_type": "stream",
          "name": "stdout",
          "text": [
            "[CV] END max_depth=20, max_features=auto, min_samples_leaf=1, min_samples_split=15, n_estimators=700; total time=   0.5s\n"
          ]
        },
        {
          "output_type": "stream",
          "name": "stderr",
          "text": [
            "/Library/Frameworks/Python.framework/Versions/3.9/lib/python3.9/site-packages/sklearn/model_selection/_validation.py:598: DataConversionWarning: A column-vector y was passed when a 1d array was expected. Please change the shape of y to (n_samples,), for example using ravel().\n",
            "  estimator.fit(X_train, y_train, **fit_params)\n"
          ]
        },
        {
          "output_type": "stream",
          "name": "stdout",
          "text": [
            "[CV] END max_depth=20, max_features=auto, min_samples_leaf=1, min_samples_split=15, n_estimators=700; total time=   0.5s\n"
          ]
        },
        {
          "output_type": "stream",
          "name": "stderr",
          "text": [
            "/Library/Frameworks/Python.framework/Versions/3.9/lib/python3.9/site-packages/sklearn/model_selection/_validation.py:598: DataConversionWarning: A column-vector y was passed when a 1d array was expected. Please change the shape of y to (n_samples,), for example using ravel().\n",
            "  estimator.fit(X_train, y_train, **fit_params)\n"
          ]
        },
        {
          "output_type": "stream",
          "name": "stdout",
          "text": [
            "[CV] END max_depth=20, max_features=auto, min_samples_leaf=1, min_samples_split=15, n_estimators=700; total time=   0.5s\n"
          ]
        },
        {
          "output_type": "stream",
          "name": "stderr",
          "text": [
            "/Library/Frameworks/Python.framework/Versions/3.9/lib/python3.9/site-packages/sklearn/model_selection/_search.py:880: DataConversionWarning: A column-vector y was passed when a 1d array was expected. Please change the shape of y to (n_samples,), for example using ravel().\n",
            "  self.best_estimator_.fit(X, y, **fit_params)\n"
          ]
        },
        {
          "output_type": "execute_result",
          "data": {
            "text/plain": [
              "RandomizedSearchCV(cv=5, estimator=RandomForestRegressor(), n_jobs=1,\n",
              "                   param_distributions={'max_depth': [5, 10, 15, 20, 25, 30],\n",
              "                                        'max_features': ['auto', 'sqrt'],\n",
              "                                        'min_samples_leaf': [1, 2, 5, 10],\n",
              "                                        'min_samples_split': [2, 5, 10, 15,\n",
              "                                                              100],\n",
              "                                        'n_estimators': [100, 200, 300, 400,\n",
              "                                                         500, 600, 700, 800,\n",
              "                                                         900, 1000, 1100,\n",
              "                                                         1200]},\n",
              "                   random_state=42, scoring='neg_mean_squared_error',\n",
              "                   verbose=2)"
            ]
          },
          "metadata": {},
          "execution_count": 46
        }
      ],
      "metadata": {
        "colab": {
          "base_uri": "https://localhost:8080/"
        },
        "id": "ZBpx9sdf_ssH",
        "outputId": "97440bca-1b5b-4b0b-e7fa-3c00643a4553"
      }
    },
    {
      "cell_type": "markdown",
      "source": [
        "## Glance at the Best parameters found"
      ],
      "metadata": {}
    },
    {
      "cell_type": "code",
      "execution_count": 47,
      "source": [
        "rf_random.best_params_"
      ],
      "outputs": [
        {
          "output_type": "execute_result",
          "data": {
            "text/plain": [
              "{'n_estimators': 700,\n",
              " 'min_samples_split': 15,\n",
              " 'min_samples_leaf': 1,\n",
              " 'max_features': 'auto',\n",
              " 'max_depth': 20}"
            ]
          },
          "metadata": {},
          "execution_count": 47
        }
      ],
      "metadata": {
        "colab": {
          "base_uri": "https://localhost:8080/"
        },
        "id": "zFpqNmcB_vUE",
        "outputId": "0c6bf2a5-5f88-439c-dd61-203533c9cda6"
      }
    },
    {
      "cell_type": "markdown",
      "source": [
        "## Predicting the Values using Hyper tuned Model"
      ],
      "metadata": {}
    },
    {
      "cell_type": "code",
      "execution_count": 49,
      "source": [
        "predictions=rf_random.predict(X_test)"
      ],
      "outputs": [],
      "metadata": {
        "id": "0ev0QsFXAYxt"
      }
    },
    {
      "cell_type": "markdown",
      "source": [
        "## Metric evaluation for Hyper Tuned Model"
      ],
      "metadata": {}
    },
    {
      "cell_type": "code",
      "execution_count": 50,
      "source": [
        "\n",
        "print('MAE:', metrics.mean_absolute_error(y_test, predictions))\n",
        "print('MSE:', metrics.mean_squared_error(y_test, predictions))\n",
        "print('RMSE:', np.sqrt(metrics.mean_squared_error(y_test, predictions)))"
      ],
      "outputs": [
        {
          "output_type": "stream",
          "name": "stdout",
          "text": [
            "MAE: 0.7216671248562808\n",
            "MSE: 1.9504987788420316\n",
            "RMSE: 1.3966025844319605\n"
          ]
        }
      ],
      "metadata": {
        "colab": {
          "base_uri": "https://localhost:8080/"
        },
        "id": "mFxpViNPAaYS",
        "outputId": "ffbe243d-3b79-41f7-d21d-749ec369d120"
      }
    },
    {
      "cell_type": "code",
      "execution_count": 75,
      "source": [
        "f\"R_Square Value for the Hypertuned model\",{r2_score(y_test,predictions)}"
      ],
      "outputs": [
        {
          "output_type": "execute_result",
          "data": {
            "text/plain": [
              "('R_Square Value for the Hypertuned model', {0.9228360091510818})"
            ]
          },
          "metadata": {},
          "execution_count": 75
        }
      ],
      "metadata": {
        "colab": {
          "base_uri": "https://localhost:8080/"
        },
        "id": "77QfKdNnAjuC",
        "outputId": "89f967ff-28ff-4dd2-a001-7d563f50f4d4"
      }
    },
    {
      "cell_type": "markdown",
      "source": [
        "## Plotting the Residuals"
      ],
      "metadata": {}
    },
    {
      "cell_type": "code",
      "execution_count": 52,
      "source": [
        "sns.distplot(y_test-predictions)"
      ],
      "outputs": [
        {
          "output_type": "stream",
          "name": "stderr",
          "text": [
            "/Library/Frameworks/Python.framework/Versions/3.9/lib/python3.9/site-packages/seaborn/distributions.py:2557: FutureWarning: `distplot` is a deprecated function and will be removed in a future version. Please adapt your code to use either `displot` (a figure-level function with similar flexibility) or `histplot` (an axes-level function for histograms).\n",
            "  warnings.warn(msg, FutureWarning)\n"
          ]
        },
        {
          "output_type": "execute_result",
          "data": {
            "text/plain": [
              "<AxesSubplot:ylabel='Density'>"
            ]
          },
          "metadata": {},
          "execution_count": 52
        },
        {
          "output_type": "display_data",
          "data": {
            "text/plain": [
              "<Figure size 432x288 with 1 Axes>"
            ],
            "image/png": "[encoded data removed]"
          },
          "metadata": {
            "needs_background": "light"
          }
        }
      ],
      "metadata": {
        "colab": {
          "base_uri": "https://localhost:8080/",
          "height": 336
        },
        "id": "mTbz-_qIBcPs",
        "outputId": "38fbecce-e06b-4520-fd9a-342325d0de4a"
      }
    },
    {
      "cell_type": "markdown",
      "source": [
        "## Plotting the original and predicted Values"
      ],
      "metadata": {}
    },
    {
      "cell_type": "code",
      "execution_count": 53,
      "source": [
        "plt.scatter(y_test,predictions)"
      ],
      "outputs": [
        {
          "output_type": "execute_result",
          "data": {
            "text/plain": [
              "<matplotlib.collections.PathCollection at 0x7fdc68e43310>"
            ]
          },
          "metadata": {},
          "execution_count": 53
        },
        {
          "output_type": "display_data",
          "data": {
            "text/plain": [
              "<Figure size 432x288 with 1 Axes>"
            ],
            "image/png": "[encoded data removed]"
          },
          "metadata": {
            "needs_background": "light"
          }
        }
      ],
      "metadata": {
        "colab": {
          "base_uri": "https://localhost:8080/",
          "height": 282
        },
        "id": "T3tc4uDpBeDX",
        "outputId": "541471d8-5af9-4791-ab00-8caa4bd7371b"
      }
    },
    {
      "cell_type": "markdown",
      "source": [
        "## Model Deployment File"
      ],
      "metadata": {}
    },
    {
      "cell_type": "code",
      "execution_count": 54,
      "source": [
        "import pickle"
      ],
      "outputs": [],
      "metadata": {
        "id": "kK4opH-BCU6H"
      }
    },
    {
      "cell_type": "code",
      "execution_count": 67,
      "source": [
        "file=open('rf_model','wb')\n",
        "pickle.dump(regressor,file)"
      ],
      "outputs": [],
      "metadata": {
        "id": "-6_nZ25jC1SJ"
      }
    }
  ]
}