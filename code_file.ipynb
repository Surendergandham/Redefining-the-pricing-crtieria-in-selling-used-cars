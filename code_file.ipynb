{
  "nbformat": 4,
  "nbformat_minor": 0,
  "metadata": {
    "colab": {
      "name": "major Project.ipynb",
      "provenance": [],
      "collapsed_sections": []
    },
    "kernelspec": {
      "name": "python3",
      "display_name": "Python 3"
    },
    "language_info": {
      "name": "python"
    }
  },
  "cells": [
    {
      "cell_type": "code",
      "metadata": {
        "id": "HHeM5jNzOPHg"
      },
      "source": [
        "import pandas as pd\n",
        "import numpy as np"
      ],
      "execution_count": null,
      "outputs": []
    },
    {
      "cell_type": "code",
      "metadata": {
        "colab": {
          "base_uri": "https://localhost:8080/"
        },
        "id": "YkOiK9nuu6dO",
        "outputId": "b80ebaec-15e6-4870-8b23-1205aa9b69f2"
      },
      "source": [
        "!pip install vecstack"
      ],
      "execution_count": null,
      "outputs": [
        {
          "output_type": "stream",
          "text": [
            "Collecting vecstack\n",
            "  Downloading https://files.pythonhosted.org/packages/d0/a1/b9a1e9e9e5a12078da1ab9788c7885e4c745358f7e57d5f94d9db6a4e898/vecstack-0.4.0.tar.gz\n",
            "Requirement already satisfied: numpy in /usr/local/lib/python3.7/dist-packages (from vecstack) (1.19.5)\n",
            "Requirement already satisfied: scipy in /usr/local/lib/python3.7/dist-packages (from vecstack) (1.4.1)\n",
            "Requirement already satisfied: scikit-learn>=0.18 in /usr/local/lib/python3.7/dist-packages (from vecstack) (0.22.2.post1)\n",
            "Requirement already satisfied: joblib>=0.11 in /usr/local/lib/python3.7/dist-packages (from scikit-learn>=0.18->vecstack) (1.0.1)\n",
            "Building wheels for collected packages: vecstack\n",
            "  Building wheel for vecstack (setup.py) ... \u001b[?25l\u001b[?25hdone\n",
            "  Created wheel for vecstack: filename=vecstack-0.4.0-cp37-none-any.whl size=19877 sha256=f513d94c3be775b6898ea90e3e817c99cdddd73771fc696c4340233c4d09b39c\n",
            "  Stored in directory: /root/.cache/pip/wheels/5f/bb/4e/f6488433d53bc0684673d6845e5bf11a25240577c8151c140e\n",
            "Successfully built vecstack\n",
            "Installing collected packages: vecstack\n",
            "Successfully installed vecstack-0.4.0\n"
          ],
          "name": "stdout"
        }
      ]
    },
    {
      "cell_type": "code",
      "metadata": {
        "id": "D2rpdQ3_RYmh"
      },
      "source": [
        "a=pd.read_csv(\"/content/major data.csv\")"
      ],
      "execution_count": null,
      "outputs": []
    },
    {
      "cell_type": "code",
      "metadata": {
        "colab": {
          "base_uri": "https://localhost:8080/",
          "height": 204
        },
        "id": "pxxyU1hVRguE",
        "outputId": "07eb3874-979f-4b91-bf87-f750808aa73b"
      },
      "source": [
        "a.head()"
      ],
      "execution_count": null,
      "outputs": [
        {
          "output_type": "execute_result",
          "data": {
            "text/html": [
              "<div>\n",
              "<style scoped>\n",
              "    .dataframe tbody tr th:only-of-type {\n",
              "        vertical-align: middle;\n",
              "    }\n",
              "\n",
              "    .dataframe tbody tr th {\n",
              "        vertical-align: top;\n",
              "    }\n",
              "\n",
              "    .dataframe thead th {\n",
              "        text-align: right;\n",
              "    }\n",
              "</style>\n",
              "<table border=\"1\" class=\"dataframe\">\n",
              "  <thead>\n",
              "    <tr style=\"text-align: right;\">\n",
              "      <th></th>\n",
              "      <th>Selling_Price</th>\n",
              "      <th>Present_Price</th>\n",
              "      <th>Kms_Driven</th>\n",
              "      <th>Fuel_Type</th>\n",
              "      <th>Seller_Type</th>\n",
              "      <th>Transmission</th>\n",
              "      <th>Owner</th>\n",
              "      <th>age</th>\n",
              "      <th>S_Score</th>\n",
              "    </tr>\n",
              "  </thead>\n",
              "  <tbody>\n",
              "    <tr>\n",
              "      <th>0</th>\n",
              "      <td>3.35</td>\n",
              "      <td>5.59</td>\n",
              "      <td>27000</td>\n",
              "      <td>0</td>\n",
              "      <td>0</td>\n",
              "      <td>0</td>\n",
              "      <td>0</td>\n",
              "      <td>7</td>\n",
              "      <td>421</td>\n",
              "    </tr>\n",
              "    <tr>\n",
              "      <th>1</th>\n",
              "      <td>4.75</td>\n",
              "      <td>9.54</td>\n",
              "      <td>43000</td>\n",
              "      <td>1</td>\n",
              "      <td>0</td>\n",
              "      <td>0</td>\n",
              "      <td>0</td>\n",
              "      <td>8</td>\n",
              "      <td>480</td>\n",
              "    </tr>\n",
              "    <tr>\n",
              "      <th>2</th>\n",
              "      <td>7.25</td>\n",
              "      <td>9.85</td>\n",
              "      <td>6900</td>\n",
              "      <td>0</td>\n",
              "      <td>0</td>\n",
              "      <td>0</td>\n",
              "      <td>0</td>\n",
              "      <td>4</td>\n",
              "      <td>872</td>\n",
              "    </tr>\n",
              "    <tr>\n",
              "      <th>3</th>\n",
              "      <td>2.85</td>\n",
              "      <td>4.15</td>\n",
              "      <td>5200</td>\n",
              "      <td>0</td>\n",
              "      <td>0</td>\n",
              "      <td>0</td>\n",
              "      <td>0</td>\n",
              "      <td>10</td>\n",
              "      <td>468</td>\n",
              "    </tr>\n",
              "    <tr>\n",
              "      <th>4</th>\n",
              "      <td>4.60</td>\n",
              "      <td>6.87</td>\n",
              "      <td>42450</td>\n",
              "      <td>1</td>\n",
              "      <td>0</td>\n",
              "      <td>0</td>\n",
              "      <td>0</td>\n",
              "      <td>7</td>\n",
              "      <td>348</td>\n",
              "    </tr>\n",
              "  </tbody>\n",
              "</table>\n",
              "</div>"
            ],
            "text/plain": [
              "   Selling_Price  Present_Price  Kms_Driven  ...  Owner  age  S_Score\n",
              "0           3.35           5.59       27000  ...      0    7      421\n",
              "1           4.75           9.54       43000  ...      0    8      480\n",
              "2           7.25           9.85        6900  ...      0    4      872\n",
              "3           2.85           4.15        5200  ...      0   10      468\n",
              "4           4.60           6.87       42450  ...      0    7      348\n",
              "\n",
              "[5 rows x 9 columns]"
            ]
          },
          "metadata": {
            "tags": []
          },
          "execution_count": 29
        }
      ]
    },
    {
      "cell_type": "code",
      "metadata": {
        "colab": {
          "base_uri": "https://localhost:8080/",
          "height": 328
        },
        "id": "eNXYaoJqff4n",
        "outputId": "9d650da4-43af-4982-a3e3-46277c65ee6a"
      },
      "source": [
        "a.corr()"
      ],
      "execution_count": null,
      "outputs": [
        {
          "output_type": "execute_result",
          "data": {
            "text/html": [
              "<div>\n",
              "<style scoped>\n",
              "    .dataframe tbody tr th:only-of-type {\n",
              "        vertical-align: middle;\n",
              "    }\n",
              "\n",
              "    .dataframe tbody tr th {\n",
              "        vertical-align: top;\n",
              "    }\n",
              "\n",
              "    .dataframe thead th {\n",
              "        text-align: right;\n",
              "    }\n",
              "</style>\n",
              "<table border=\"1\" class=\"dataframe\">\n",
              "  <thead>\n",
              "    <tr style=\"text-align: right;\">\n",
              "      <th></th>\n",
              "      <th>Selling_Price</th>\n",
              "      <th>Present_Price</th>\n",
              "      <th>Kms_Driven</th>\n",
              "      <th>Fuel_Type</th>\n",
              "      <th>Seller_Type</th>\n",
              "      <th>Transmission</th>\n",
              "      <th>Owner</th>\n",
              "      <th>age</th>\n",
              "      <th>S_Score</th>\n",
              "    </tr>\n",
              "  </thead>\n",
              "  <tbody>\n",
              "    <tr>\n",
              "      <th>Selling_Price</th>\n",
              "      <td>1.000000</td>\n",
              "      <td>0.878983</td>\n",
              "      <td>0.029187</td>\n",
              "      <td>0.509467</td>\n",
              "      <td>-0.550724</td>\n",
              "      <td>0.367128</td>\n",
              "      <td>-0.088344</td>\n",
              "      <td>-0.236141</td>\n",
              "      <td>-0.066117</td>\n",
              "    </tr>\n",
              "    <tr>\n",
              "      <th>Present_Price</th>\n",
              "      <td>0.878983</td>\n",
              "      <td>1.000000</td>\n",
              "      <td>0.203647</td>\n",
              "      <td>0.440415</td>\n",
              "      <td>-0.512030</td>\n",
              "      <td>0.348715</td>\n",
              "      <td>0.008057</td>\n",
              "      <td>0.047584</td>\n",
              "      <td>-0.022435</td>\n",
              "    </tr>\n",
              "    <tr>\n",
              "      <th>Kms_Driven</th>\n",
              "      <td>0.029187</td>\n",
              "      <td>0.203647</td>\n",
              "      <td>1.000000</td>\n",
              "      <td>0.166801</td>\n",
              "      <td>-0.101419</td>\n",
              "      <td>0.162510</td>\n",
              "      <td>0.089216</td>\n",
              "      <td>0.524342</td>\n",
              "      <td>-0.017702</td>\n",
              "    </tr>\n",
              "    <tr>\n",
              "      <th>Fuel_Type</th>\n",
              "      <td>0.509467</td>\n",
              "      <td>0.440415</td>\n",
              "      <td>0.166801</td>\n",
              "      <td>1.000000</td>\n",
              "      <td>-0.352415</td>\n",
              "      <td>0.080466</td>\n",
              "      <td>-0.055705</td>\n",
              "      <td>-0.053643</td>\n",
              "      <td>-0.125252</td>\n",
              "    </tr>\n",
              "    <tr>\n",
              "      <th>Seller_Type</th>\n",
              "      <td>-0.550724</td>\n",
              "      <td>-0.512030</td>\n",
              "      <td>-0.101419</td>\n",
              "      <td>-0.352415</td>\n",
              "      <td>1.000000</td>\n",
              "      <td>-0.063240</td>\n",
              "      <td>0.124269</td>\n",
              "      <td>0.039896</td>\n",
              "      <td>0.062428</td>\n",
              "    </tr>\n",
              "    <tr>\n",
              "      <th>Transmission</th>\n",
              "      <td>0.367128</td>\n",
              "      <td>0.348715</td>\n",
              "      <td>0.162510</td>\n",
              "      <td>0.080466</td>\n",
              "      <td>-0.063240</td>\n",
              "      <td>1.000000</td>\n",
              "      <td>0.050316</td>\n",
              "      <td>0.000394</td>\n",
              "      <td>-0.000414</td>\n",
              "    </tr>\n",
              "    <tr>\n",
              "      <th>Owner</th>\n",
              "      <td>-0.088344</td>\n",
              "      <td>0.008057</td>\n",
              "      <td>0.089216</td>\n",
              "      <td>-0.055705</td>\n",
              "      <td>0.124269</td>\n",
              "      <td>0.050316</td>\n",
              "      <td>1.000000</td>\n",
              "      <td>0.182104</td>\n",
              "      <td>0.059596</td>\n",
              "    </tr>\n",
              "    <tr>\n",
              "      <th>age</th>\n",
              "      <td>-0.236141</td>\n",
              "      <td>0.047584</td>\n",
              "      <td>0.524342</td>\n",
              "      <td>-0.053643</td>\n",
              "      <td>0.039896</td>\n",
              "      <td>0.000394</td>\n",
              "      <td>0.182104</td>\n",
              "      <td>1.000000</td>\n",
              "      <td>0.000541</td>\n",
              "    </tr>\n",
              "    <tr>\n",
              "      <th>S_Score</th>\n",
              "      <td>-0.066117</td>\n",
              "      <td>-0.022435</td>\n",
              "      <td>-0.017702</td>\n",
              "      <td>-0.125252</td>\n",
              "      <td>0.062428</td>\n",
              "      <td>-0.000414</td>\n",
              "      <td>0.059596</td>\n",
              "      <td>0.000541</td>\n",
              "      <td>1.000000</td>\n",
              "    </tr>\n",
              "  </tbody>\n",
              "</table>\n",
              "</div>"
            ],
            "text/plain": [
              "               Selling_Price  Present_Price  ...       age   S_Score\n",
              "Selling_Price       1.000000       0.878983  ... -0.236141 -0.066117\n",
              "Present_Price       0.878983       1.000000  ...  0.047584 -0.022435\n",
              "Kms_Driven          0.029187       0.203647  ...  0.524342 -0.017702\n",
              "Fuel_Type           0.509467       0.440415  ... -0.053643 -0.125252\n",
              "Seller_Type        -0.550724      -0.512030  ...  0.039896  0.062428\n",
              "Transmission        0.367128       0.348715  ...  0.000394 -0.000414\n",
              "Owner              -0.088344       0.008057  ...  0.182104  0.059596\n",
              "age                -0.236141       0.047584  ...  1.000000  0.000541\n",
              "S_Score            -0.066117      -0.022435  ...  0.000541  1.000000\n",
              "\n",
              "[9 rows x 9 columns]"
            ]
          },
          "metadata": {
            "tags": []
          },
          "execution_count": 30
        }
      ]
    },
    {
      "cell_type": "code",
      "metadata": {
        "id": "CAA-i-XUfy1s"
      },
      "source": [
        "import seaborn as sns\n",
        "import matplotlib.pyplot as plt"
      ],
      "execution_count": null,
      "outputs": []
    },
    {
      "cell_type": "code",
      "metadata": {
        "colab": {
          "base_uri": "https://localhost:8080/",
          "height": 544
        },
        "id": "0Hgfue6o9lnt",
        "outputId": "6237375e-6c2c-46c3-97a1-a9f0ec52fdbc"
      },
      "source": [
        "import seaborn as sns\n",
        "#get correlations of each features in dataset\n",
        "corrmat = a.corr()\n",
        "top_corr_features = corrmat.index\n",
        "plt.figure(figsize=(10,8))\n",
        "#plot heat map\n",
        "g=sns.heatmap(a.corr(),annot=True,cmap=\"RdYlGn\")"
      ],
      "execution_count": null,
      "outputs": [
        {
          "output_type": "display_data",
          "data": {
            "image/png": "[encoded data removed]",
            "text/plain": [
              "<Figure size 720x576 with 2 Axes>"
            ]
          },
          "metadata": {
            "tags": [],
            "needs_background": "light"
          }
        }
      ]
    },
    {
      "cell_type": "code",
      "metadata": {
        "id": "Yh6e-6fm-x20"
      },
      "source": [
        "X = a.iloc[:, [1,2,3,4,5,6,7,8]]"
      ],
      "execution_count": null,
      "outputs": []
    },
    {
      "cell_type": "code",
      "metadata": {
        "id": "s3IcU5UmSVnr"
      },
      "source": [
        "x = a.iloc[:, [1,2,3,4,5,6,7,8]].values\n",
        "y = a.iloc[:, :1].values"
      ],
      "execution_count": null,
      "outputs": []
    },
    {
      "cell_type": "code",
      "metadata": {
        "colab": {
          "base_uri": "https://localhost:8080/"
        },
        "id": "NnMapCHlVGDl",
        "outputId": "810346db-5dc6-40ce-ddf9-293024efae52"
      },
      "source": [
        "x"
      ],
      "execution_count": null,
      "outputs": [
        {
          "output_type": "execute_result",
          "data": {
            "text/plain": [
              "array([[5.5900e+00, 2.7000e+04, 0.0000e+00, ..., 0.0000e+00, 7.0000e+00,\n",
              "        4.2100e+02],\n",
              "       [9.5400e+00, 4.3000e+04, 1.0000e+00, ..., 0.0000e+00, 8.0000e+00,\n",
              "        4.8000e+02],\n",
              "       [9.8500e+00, 6.9000e+03, 0.0000e+00, ..., 0.0000e+00, 4.0000e+00,\n",
              "        8.7200e+02],\n",
              "       ...,\n",
              "       [1.1000e+01, 8.7934e+04, 0.0000e+00, ..., 0.0000e+00, 1.2000e+01,\n",
              "        6.2600e+02],\n",
              "       [1.2500e+01, 9.0000e+03, 1.0000e+00, ..., 0.0000e+00, 4.0000e+00,\n",
              "        5.7800e+02],\n",
              "       [5.9000e+00, 5.4640e+03, 0.0000e+00, ..., 0.0000e+00, 5.0000e+00,\n",
              "        4.8200e+02]])"
            ]
          },
          "metadata": {
            "tags": []
          },
          "execution_count": 9
        }
      ]
    },
    {
      "cell_type": "code",
      "metadata": {
        "colab": {
          "base_uri": "https://localhost:8080/"
        },
        "id": "XhPto1fESwD1",
        "outputId": "d27c375a-f490-407f-d3e9-b3bfd695df19"
      },
      "source": [
        "y"
      ],
      "execution_count": null,
      "outputs": [
        {
          "output_type": "execute_result",
          "data": {
            "text/plain": [
              "array([[ 3.35],\n",
              "       [ 4.75],\n",
              "       [ 7.25],\n",
              "       [ 2.85],\n",
              "       [ 4.6 ],\n",
              "       [ 9.25],\n",
              "       [ 6.75],\n",
              "       [ 6.5 ],\n",
              "       [ 8.75],\n",
              "       [ 7.45],\n",
              "       [ 2.85],\n",
              "       [ 6.85],\n",
              "       [ 7.5 ],\n",
              "       [ 6.1 ],\n",
              "       [ 2.25],\n",
              "       [ 7.75],\n",
              "       [ 7.25],\n",
              "       [ 7.75],\n",
              "       [ 3.25],\n",
              "       [ 2.65],\n",
              "       [ 2.85],\n",
              "       [ 4.9 ],\n",
              "       [ 4.4 ],\n",
              "       [ 2.5 ],\n",
              "       [ 2.9 ],\n",
              "       [ 3.  ],\n",
              "       [ 4.15],\n",
              "       [ 6.  ],\n",
              "       [ 1.95],\n",
              "       [ 7.45],\n",
              "       [ 3.1 ],\n",
              "       [ 2.35],\n",
              "       [ 4.95],\n",
              "       [ 6.  ],\n",
              "       [ 5.5 ],\n",
              "       [ 2.95],\n",
              "       [ 4.65],\n",
              "       [ 0.35],\n",
              "       [ 3.  ],\n",
              "       [ 2.25],\n",
              "       [ 5.85],\n",
              "       [ 2.55],\n",
              "       [ 1.95],\n",
              "       [ 5.5 ],\n",
              "       [ 1.25],\n",
              "       [ 7.5 ],\n",
              "       [ 2.65],\n",
              "       [ 1.05],\n",
              "       [ 5.8 ],\n",
              "       [ 7.75],\n",
              "       [14.9 ],\n",
              "       [23.  ],\n",
              "       [18.  ],\n",
              "       [16.  ],\n",
              "       [ 2.75],\n",
              "       [ 3.6 ],\n",
              "       [ 4.5 ],\n",
              "       [ 4.75],\n",
              "       [ 4.1 ],\n",
              "       [19.99],\n",
              "       [ 6.95],\n",
              "       [ 4.5 ],\n",
              "       [18.75],\n",
              "       [23.5 ],\n",
              "       [33.  ],\n",
              "       [ 4.75],\n",
              "       [19.75],\n",
              "       [ 9.25],\n",
              "       [ 4.35],\n",
              "       [14.25],\n",
              "       [ 3.95],\n",
              "       [ 4.5 ],\n",
              "       [ 7.45],\n",
              "       [ 2.65],\n",
              "       [ 4.9 ],\n",
              "       [ 3.95],\n",
              "       [ 5.5 ],\n",
              "       [ 1.5 ],\n",
              "       [ 5.25],\n",
              "       [14.5 ],\n",
              "       [14.73],\n",
              "       [ 4.75],\n",
              "       [23.  ],\n",
              "       [12.5 ],\n",
              "       [ 3.49],\n",
              "       [ 2.5 ],\n",
              "       [35.  ],\n",
              "       [ 5.9 ],\n",
              "       [ 3.45],\n",
              "       [ 4.75],\n",
              "       [ 3.8 ],\n",
              "       [11.25],\n",
              "       [ 3.51],\n",
              "       [23.  ],\n",
              "       [ 4.  ],\n",
              "       [ 5.85],\n",
              "       [20.75],\n",
              "       [17.  ],\n",
              "       [ 7.05],\n",
              "       [ 9.65],\n",
              "       [ 1.75],\n",
              "       [ 1.7 ],\n",
              "       [ 1.65],\n",
              "       [ 1.45],\n",
              "       [ 1.35],\n",
              "       [ 1.35],\n",
              "       [ 1.35],\n",
              "       [ 1.25],\n",
              "       [ 1.2 ],\n",
              "       [ 1.2 ],\n",
              "       [ 1.2 ],\n",
              "       [ 1.15],\n",
              "       [ 1.15],\n",
              "       [ 1.15],\n",
              "       [ 1.15],\n",
              "       [ 1.11],\n",
              "       [ 1.1 ],\n",
              "       [ 1.1 ],\n",
              "       [ 1.1 ],\n",
              "       [ 1.05],\n",
              "       [ 1.05],\n",
              "       [ 1.05],\n",
              "       [ 1.05],\n",
              "       [ 1.  ],\n",
              "       [ 0.95],\n",
              "       [ 0.9 ],\n",
              "       [ 0.9 ],\n",
              "       [ 0.75],\n",
              "       [ 0.8 ],\n",
              "       [ 0.78],\n",
              "       [ 0.75],\n",
              "       [ 0.75],\n",
              "       [ 0.75],\n",
              "       [ 0.72],\n",
              "       [ 0.65],\n",
              "       [ 0.65],\n",
              "       [ 0.65],\n",
              "       [ 0.65],\n",
              "       [ 0.6 ],\n",
              "       [ 0.6 ],\n",
              "       [ 0.6 ],\n",
              "       [ 0.6 ],\n",
              "       [ 0.6 ],\n",
              "       [ 0.6 ],\n",
              "       [ 0.6 ],\n",
              "       [ 0.6 ],\n",
              "       [ 0.55],\n",
              "       [ 0.55],\n",
              "       [ 0.52],\n",
              "       [ 0.51],\n",
              "       [ 0.5 ],\n",
              "       [ 0.5 ],\n",
              "       [ 0.5 ],\n",
              "       [ 0.5 ],\n",
              "       [ 0.5 ],\n",
              "       [ 0.48],\n",
              "       [ 0.48],\n",
              "       [ 0.48],\n",
              "       [ 0.48],\n",
              "       [ 0.45],\n",
              "       [ 0.45],\n",
              "       [ 0.45],\n",
              "       [ 0.45],\n",
              "       [ 0.45],\n",
              "       [ 0.45],\n",
              "       [ 0.45],\n",
              "       [ 0.45],\n",
              "       [ 0.42],\n",
              "       [ 0.42],\n",
              "       [ 0.4 ],\n",
              "       [ 0.4 ],\n",
              "       [ 0.4 ],\n",
              "       [ 0.4 ],\n",
              "       [ 0.4 ],\n",
              "       [ 0.38],\n",
              "       [ 0.38],\n",
              "       [ 0.35],\n",
              "       [ 0.35],\n",
              "       [ 0.35],\n",
              "       [ 0.31],\n",
              "       [ 0.3 ],\n",
              "       [ 0.3 ],\n",
              "       [ 0.3 ],\n",
              "       [ 0.27],\n",
              "       [ 0.25],\n",
              "       [ 0.25],\n",
              "       [ 0.25],\n",
              "       [ 0.25],\n",
              "       [ 0.25],\n",
              "       [ 0.2 ],\n",
              "       [ 0.2 ],\n",
              "       [ 0.2 ],\n",
              "       [ 0.2 ],\n",
              "       [ 0.2 ],\n",
              "       [ 0.2 ],\n",
              "       [ 0.18],\n",
              "       [ 0.17],\n",
              "       [ 0.16],\n",
              "       [ 0.15],\n",
              "       [ 0.12],\n",
              "       [ 0.1 ],\n",
              "       [ 3.25],\n",
              "       [ 4.4 ],\n",
              "       [ 2.95],\n",
              "       [ 2.75],\n",
              "       [ 5.25],\n",
              "       [ 5.75],\n",
              "       [ 5.15],\n",
              "       [ 7.9 ],\n",
              "       [ 4.85],\n",
              "       [ 3.1 ],\n",
              "       [11.75],\n",
              "       [11.25],\n",
              "       [ 2.9 ],\n",
              "       [ 5.25],\n",
              "       [ 4.5 ],\n",
              "       [ 2.9 ],\n",
              "       [ 3.15],\n",
              "       [ 6.45],\n",
              "       [ 4.5 ],\n",
              "       [ 3.5 ],\n",
              "       [ 4.5 ],\n",
              "       [ 6.  ],\n",
              "       [ 8.25],\n",
              "       [ 5.11],\n",
              "       [ 2.7 ],\n",
              "       [ 5.25],\n",
              "       [ 2.55],\n",
              "       [ 4.95],\n",
              "       [ 3.1 ],\n",
              "       [ 6.15],\n",
              "       [ 9.25],\n",
              "       [11.45],\n",
              "       [ 3.9 ],\n",
              "       [ 5.5 ],\n",
              "       [ 9.1 ],\n",
              "       [ 3.1 ],\n",
              "       [11.25],\n",
              "       [ 4.8 ],\n",
              "       [ 2.  ],\n",
              "       [ 5.35],\n",
              "       [ 4.75],\n",
              "       [ 4.4 ],\n",
              "       [ 6.25],\n",
              "       [ 5.95],\n",
              "       [ 5.2 ],\n",
              "       [ 3.75],\n",
              "       [ 5.95],\n",
              "       [ 4.  ],\n",
              "       [ 5.25],\n",
              "       [12.9 ],\n",
              "       [ 5.  ],\n",
              "       [ 5.4 ],\n",
              "       [ 7.2 ],\n",
              "       [ 5.25],\n",
              "       [ 3.  ],\n",
              "       [10.25],\n",
              "       [ 8.5 ],\n",
              "       [ 8.4 ],\n",
              "       [ 3.9 ],\n",
              "       [ 9.15],\n",
              "       [ 5.5 ],\n",
              "       [ 4.  ],\n",
              "       [ 6.6 ],\n",
              "       [ 4.  ],\n",
              "       [ 6.5 ],\n",
              "       [ 3.65],\n",
              "       [ 8.35],\n",
              "       [ 4.8 ],\n",
              "       [ 6.7 ],\n",
              "       [ 4.1 ],\n",
              "       [ 3.  ],\n",
              "       [ 7.5 ],\n",
              "       [ 2.25],\n",
              "       [ 5.3 ],\n",
              "       [10.9 ],\n",
              "       [ 8.65],\n",
              "       [ 9.7 ],\n",
              "       [ 6.  ],\n",
              "       [ 6.25],\n",
              "       [ 5.25],\n",
              "       [ 2.1 ],\n",
              "       [ 8.25],\n",
              "       [ 8.99],\n",
              "       [ 3.5 ],\n",
              "       [ 7.4 ],\n",
              "       [ 5.65],\n",
              "       [ 5.75],\n",
              "       [ 8.4 ],\n",
              "       [10.11],\n",
              "       [ 4.5 ],\n",
              "       [ 5.4 ],\n",
              "       [ 6.4 ],\n",
              "       [ 3.25],\n",
              "       [ 3.75],\n",
              "       [ 8.55],\n",
              "       [ 9.5 ],\n",
              "       [ 4.  ],\n",
              "       [ 3.35],\n",
              "       [11.5 ],\n",
              "       [ 5.3 ]])"
            ]
          },
          "metadata": {
            "tags": []
          },
          "execution_count": 10
        }
      ]
    },
    {
      "cell_type": "code",
      "metadata": {
        "id": "Vkqa5aL1TVgW"
      },
      "source": [
        "from sklearn.model_selection import train_test_split\n",
        "X_train, X_test, y_train, y_test = train_test_split(x, y, test_size = 0.2, random_state = 0)"
      ],
      "execution_count": null,
      "outputs": []
    },
    {
      "cell_type": "code",
      "metadata": {
        "colab": {
          "base_uri": "https://localhost:8080/"
        },
        "id": "GZ11GU5BUfHk",
        "outputId": "02d3d2d6-84b9-4ad3-8c99-cae6a08b13df"
      },
      "source": [
        "X_train"
      ],
      "execution_count": null,
      "outputs": [
        {
          "output_type": "execute_result",
          "data": {
            "text/plain": [
              "array([[8.9300e+00, 8.3000e+04, 1.0000e+00, ..., 0.0000e+00, 7.0000e+00,\n",
              "        8.6200e+02],\n",
              "       [4.4300e+00, 2.3709e+04, 0.0000e+00, ..., 0.0000e+00, 9.0000e+00,\n",
              "        4.3200e+02],\n",
              "       [3.6230e+01, 6.0000e+03, 1.0000e+00, ..., 0.0000e+00, 4.0000e+00,\n",
              "        4.2200e+02],\n",
              "       ...,\n",
              "       [1.9000e+00, 1.4000e+04, 0.0000e+00, ..., 0.0000e+00, 6.0000e+00,\n",
              "        3.8100e+02],\n",
              "       [4.1500e+00, 6.5000e+04, 0.0000e+00, ..., 0.0000e+00, 1.5000e+01,\n",
              "        5.6100e+02],\n",
              "       [6.4000e-01, 1.3700e+04, 0.0000e+00, ..., 0.0000e+00, 7.0000e+00,\n",
              "        8.4600e+02]])"
            ]
          },
          "metadata": {
            "tags": []
          },
          "execution_count": 12
        }
      ]
    },
    {
      "cell_type": "code",
      "metadata": {
        "colab": {
          "base_uri": "https://localhost:8080/"
        },
        "id": "-CY8-XNIWnyh",
        "outputId": "1225c8cd-2a96-486f-f3c3-a29d2bf68dd3"
      },
      "source": [
        "y_train"
      ],
      "execution_count": null,
      "outputs": [
        {
          "output_type": "execute_result",
          "data": {
            "text/plain": [
              "array([[ 4.9 ],\n",
              "       [ 2.  ],\n",
              "       [33.  ],\n",
              "       [ 3.75],\n",
              "       [ 5.65],\n",
              "       [ 8.55],\n",
              "       [ 3.8 ],\n",
              "       [ 0.4 ],\n",
              "       [ 2.65],\n",
              "       [ 2.85],\n",
              "       [ 2.65],\n",
              "       [ 0.48],\n",
              "       [ 6.15],\n",
              "       [ 0.31],\n",
              "       [ 6.  ],\n",
              "       [ 0.55],\n",
              "       [ 9.15],\n",
              "       [ 0.35],\n",
              "       [ 2.25],\n",
              "       [ 0.45],\n",
              "       [17.  ],\n",
              "       [ 4.85],\n",
              "       [ 5.75],\n",
              "       [ 6.45],\n",
              "       [ 1.1 ],\n",
              "       [ 5.35],\n",
              "       [ 5.5 ],\n",
              "       [ 0.6 ],\n",
              "       [ 5.3 ],\n",
              "       [ 0.65],\n",
              "       [ 6.  ],\n",
              "       [ 8.99],\n",
              "       [ 1.25],\n",
              "       [ 5.2 ],\n",
              "       [ 0.2 ],\n",
              "       [ 0.5 ],\n",
              "       [ 0.45],\n",
              "       [ 1.45],\n",
              "       [ 2.75],\n",
              "       [ 3.1 ],\n",
              "       [ 3.25],\n",
              "       [ 0.42],\n",
              "       [ 5.4 ],\n",
              "       [ 0.95],\n",
              "       [ 0.9 ],\n",
              "       [ 4.5 ],\n",
              "       [ 3.  ],\n",
              "       [ 5.95],\n",
              "       [ 3.1 ],\n",
              "       [10.11],\n",
              "       [ 3.15],\n",
              "       [ 0.48],\n",
              "       [ 0.45],\n",
              "       [ 6.  ],\n",
              "       [12.5 ],\n",
              "       [ 0.65],\n",
              "       [ 7.9 ],\n",
              "       [ 6.95],\n",
              "       [ 0.48],\n",
              "       [ 2.1 ],\n",
              "       [ 1.2 ],\n",
              "       [ 4.9 ],\n",
              "       [ 7.45],\n",
              "       [ 0.4 ],\n",
              "       [ 7.25],\n",
              "       [ 4.5 ],\n",
              "       [ 3.95],\n",
              "       [ 1.2 ],\n",
              "       [ 5.3 ],\n",
              "       [ 3.1 ],\n",
              "       [ 4.6 ],\n",
              "       [20.75],\n",
              "       [ 0.42],\n",
              "       [ 4.5 ],\n",
              "       [ 9.25],\n",
              "       [ 0.6 ],\n",
              "       [ 0.1 ],\n",
              "       [ 0.5 ],\n",
              "       [ 5.25],\n",
              "       [ 5.85],\n",
              "       [ 0.25],\n",
              "       [ 6.1 ],\n",
              "       [ 1.25],\n",
              "       [ 0.15],\n",
              "       [ 2.85],\n",
              "       [ 0.45],\n",
              "       [ 0.9 ],\n",
              "       [ 2.9 ],\n",
              "       [ 3.1 ],\n",
              "       [ 1.5 ],\n",
              "       [ 6.  ],\n",
              "       [ 0.25],\n",
              "       [ 2.65],\n",
              "       [10.25],\n",
              "       [ 3.9 ],\n",
              "       [ 8.35],\n",
              "       [14.73],\n",
              "       [23.  ],\n",
              "       [ 7.25],\n",
              "       [11.25],\n",
              "       [ 1.35],\n",
              "       [ 0.3 ],\n",
              "       [35.  ],\n",
              "       [ 2.85],\n",
              "       [ 0.2 ],\n",
              "       [ 4.1 ],\n",
              "       [ 2.55],\n",
              "       [ 2.25],\n",
              "       [ 0.48],\n",
              "       [14.9 ],\n",
              "       [ 2.9 ],\n",
              "       [ 9.1 ],\n",
              "       [ 1.  ],\n",
              "       [ 4.1 ],\n",
              "       [18.75],\n",
              "       [ 0.2 ],\n",
              "       [ 4.95],\n",
              "       [ 0.75],\n",
              "       [ 3.25],\n",
              "       [ 6.7 ],\n",
              "       [ 5.5 ],\n",
              "       [ 1.15],\n",
              "       [ 0.6 ],\n",
              "       [ 0.12],\n",
              "       [ 3.5 ],\n",
              "       [ 0.51],\n",
              "       [ 1.15],\n",
              "       [ 5.25],\n",
              "       [ 7.05],\n",
              "       [ 4.5 ],\n",
              "       [23.  ],\n",
              "       [ 5.75],\n",
              "       [ 0.45],\n",
              "       [ 4.65],\n",
              "       [ 0.35],\n",
              "       [ 1.15],\n",
              "       [ 3.35],\n",
              "       [ 4.  ],\n",
              "       [ 8.65],\n",
              "       [ 5.85],\n",
              "       [ 4.  ],\n",
              "       [ 4.  ],\n",
              "       [ 5.4 ],\n",
              "       [14.25],\n",
              "       [ 7.75],\n",
              "       [ 5.8 ],\n",
              "       [ 2.5 ],\n",
              "       [ 3.35],\n",
              "       [ 0.6 ],\n",
              "       [ 5.15],\n",
              "       [ 2.5 ],\n",
              "       [ 4.  ],\n",
              "       [ 0.52],\n",
              "       [ 0.6 ],\n",
              "       [ 5.25],\n",
              "       [ 0.3 ],\n",
              "       [ 1.75],\n",
              "       [ 2.75],\n",
              "       [ 0.75],\n",
              "       [ 4.8 ],\n",
              "       [11.5 ],\n",
              "       [ 0.17],\n",
              "       [ 6.75],\n",
              "       [ 4.35],\n",
              "       [ 2.95],\n",
              "       [ 3.49],\n",
              "       [ 0.4 ],\n",
              "       [ 1.05],\n",
              "       [ 0.6 ],\n",
              "       [ 8.5 ],\n",
              "       [10.9 ],\n",
              "       [ 0.6 ],\n",
              "       [ 8.4 ],\n",
              "       [11.25],\n",
              "       [23.  ],\n",
              "       [ 3.5 ],\n",
              "       [ 6.85],\n",
              "       [ 1.05],\n",
              "       [ 1.65],\n",
              "       [ 2.95],\n",
              "       [ 4.75],\n",
              "       [ 0.4 ],\n",
              "       [ 9.25],\n",
              "       [ 4.75],\n",
              "       [ 4.75],\n",
              "       [ 1.05],\n",
              "       [ 3.65],\n",
              "       [ 0.25],\n",
              "       [ 1.95],\n",
              "       [ 1.35],\n",
              "       [ 0.75],\n",
              "       [14.5 ],\n",
              "       [ 7.75],\n",
              "       [ 4.  ],\n",
              "       [11.45],\n",
              "       [ 3.  ],\n",
              "       [16.  ],\n",
              "       [ 3.9 ],\n",
              "       [ 0.8 ],\n",
              "       [ 1.95],\n",
              "       [ 0.27],\n",
              "       [ 0.45],\n",
              "       [ 0.5 ],\n",
              "       [ 5.95],\n",
              "       [ 4.4 ],\n",
              "       [ 2.35],\n",
              "       [ 4.95],\n",
              "       [ 0.75],\n",
              "       [ 0.25],\n",
              "       [ 6.25],\n",
              "       [ 7.5 ],\n",
              "       [ 0.55],\n",
              "       [ 6.4 ],\n",
              "       [ 0.35],\n",
              "       [ 9.65],\n",
              "       [ 0.16],\n",
              "       [ 6.25],\n",
              "       [ 1.11],\n",
              "       [ 6.5 ],\n",
              "       [ 7.45],\n",
              "       [ 3.  ],\n",
              "       [ 0.45],\n",
              "       [ 8.4 ],\n",
              "       [ 0.38],\n",
              "       [ 4.5 ],\n",
              "       [ 2.25],\n",
              "       [ 0.2 ],\n",
              "       [ 3.45],\n",
              "       [ 3.95],\n",
              "       [ 5.9 ],\n",
              "       [ 4.4 ],\n",
              "       [ 9.7 ],\n",
              "       [11.75],\n",
              "       [ 7.45],\n",
              "       [ 0.18],\n",
              "       [ 5.  ],\n",
              "       [ 0.2 ],\n",
              "       [ 1.1 ],\n",
              "       [ 1.05],\n",
              "       [ 0.4 ]])"
            ]
          },
          "metadata": {
            "tags": []
          },
          "execution_count": 13
        }
      ]
    },
    {
      "cell_type": "code",
      "metadata": {
        "id": "fwOOPvh8Tld7"
      },
      "source": [
        "from sklearn.preprocessing import StandardScaler\n",
        "Scale=StandardScaler()"
      ],
      "execution_count": null,
      "outputs": []
    },
    {
      "cell_type": "code",
      "metadata": {
        "colab": {
          "base_uri": "https://localhost:8080/"
        },
        "id": "PJUj2lItdV30",
        "outputId": "a133a542-0d4d-46ec-8557-ae9447a4a031"
      },
      "source": [
        "Scale.fit(X_train)\n",
        "Scale.fit_transform(X_test)"
      ],
      "execution_count": null,
      "outputs": [
        {
          "output_type": "execute_result",
          "data": {
            "text/plain": [
              "array([[ 2.40022388e-01,  1.48232869e+00,  1.75119007e+00,\n",
              "        -6.72592709e-01, -4.69041576e-01, -2.98807152e-01,\n",
              "        -4.30594515e-01, -1.42336362e+00],\n",
              "       [-9.54639482e-01, -1.18829417e+00, -5.71040241e-01,\n",
              "         1.48678388e+00, -4.69041576e-01, -2.98807152e-01,\n",
              "         1.09208754e+00,  2.90872597e-01],\n",
              "       [-2.75518657e-01, -2.87590069e-01, -5.71040241e-01,\n",
              "        -6.72592709e-01, -4.69041576e-01, -2.98807152e-01,\n",
              "        -4.30594515e-01, -4.33701472e-01],\n",
              "       [ 5.46560307e-01,  1.61363523e-01,  1.75119007e+00,\n",
              "        -6.72592709e-01, -4.69041576e-01, -2.98807152e-01,\n",
              "        -8.11265028e-01,  5.44178979e-01],\n",
              "       [ 1.68493067e+00, -7.54289625e-01,  1.75119007e+00,\n",
              "        -6.72592709e-01,  2.13200716e+00, -2.98807152e-01,\n",
              "        -1.19193554e+00, -1.64721577e+00],\n",
              "       [-2.37898094e-01, -1.20758326e+00, -5.71040241e-01,\n",
              "        -6.72592709e-01, -4.69041576e-01, -2.98807152e-01,\n",
              "        -8.11265028e-01,  9.74210744e-01],\n",
              "       [-1.23643052e-01,  2.10164923e-01, -5.71040241e-01,\n",
              "        -6.72592709e-01, -4.69041576e-01, -2.98807152e-01,\n",
              "         7.11417025e-01,  5.97196594e-01],\n",
              "       [-9.93096057e-01, -1.42940781e+00, -5.71040241e-01,\n",
              "         1.48678388e+00, -4.69041576e-01, -2.98807152e-01,\n",
              "        -8.11265028e-01, -1.30554669e+00],\n",
              "       [-1.23643052e-01,  6.54967408e-02, -5.71040241e-01,\n",
              "        -6.72592709e-01,  2.13200716e+00, -2.98807152e-01,\n",
              "         3.30746512e-01,  6.38432517e-01],\n",
              "       [ 2.40022388e-01,  2.63209923e-01, -5.71040241e-01,\n",
              "        -6.72592709e-01, -4.69041576e-01, -2.98807152e-01,\n",
              "         7.11417025e-01,  2.22113869e-03],\n",
              "       [-4.28787616e-01, -3.91799383e-01, -5.71040241e-01,\n",
              "        -6.72592709e-01, -4.69041576e-01, -2.98807152e-01,\n",
              "         1.09208754e+00,  1.26286220e+00],\n",
              "       [-9.37361890e-01, -1.45351917e+00, -5.71040241e-01,\n",
              "         1.48678388e+00, -4.69041576e-01, -2.98807152e-01,\n",
              "        -8.11265028e-01,  1.67522143e+00],\n",
              "       [-2.75518657e-01, -5.07678597e-01, -5.71040241e-01,\n",
              "        -6.72592709e-01, -4.69041576e-01, -2.98807152e-01,\n",
              "        -1.19193554e+00, -1.25841993e+00],\n",
              "       [ 3.15263514e-01, -7.54289625e-01, -5.71040241e-01,\n",
              "        -6.72592709e-01,  2.13200716e+00, -2.98807152e-01,\n",
              "        -4.30594515e-01, -6.16317701e-01],\n",
              "       [ 4.33698619e-01,  5.95946742e-01,  1.75119007e+00,\n",
              "        -6.72592709e-01, -4.69041576e-01, -2.98807152e-01,\n",
              "        -8.11265028e-01, -1.00511354e+00],\n",
              "       [ 2.15588438e+00, -9.47180535e-01, -5.71040241e-01,\n",
              "        -6.72592709e-01,  2.13200716e+00, -2.98807152e-01,\n",
              "        -1.19193554e+00, -1.12882131e+00],\n",
              "       [ 1.14620512e-01, -7.51444484e-01, -5.71040241e-01,\n",
              "        -6.72592709e-01,  2.13200716e+00, -2.98807152e-01,\n",
              "        -8.11265028e-01,  7.29112918e-02],\n",
              "       [-1.27823114e-01,  4.51278560e-01, -5.71040241e-01,\n",
              "        -6.72592709e-01, -4.69041576e-01, -2.98807152e-01,\n",
              "        -4.99240017e-02, -1.47049038e+00],\n",
              "       [-9.23428349e-01, -3.09487140e-02, -5.71040241e-01,\n",
              "         1.48678388e+00, -4.69041576e-01, -2.98807152e-01,\n",
              "         1.09208754e+00, -1.23485654e+00],\n",
              "       [-8.16140077e-01, -1.41011872e+00, -5.71040241e-01,\n",
              "         1.48678388e+00, -4.69041576e-01, -2.98807152e-01,\n",
              "        -1.19193554e+00,  8.62284668e-01],\n",
              "       [ 4.63461577e-02,  9.33505834e-01, -5.71040241e-01,\n",
              "        -6.72592709e-01,  2.13200716e+00, -2.98807152e-01,\n",
              "         1.09208754e+00,  1.53384112e+00],\n",
              "       [-2.75518657e-01, -1.30918855e+00, -5.71040241e-01,\n",
              "        -6.72592709e-01, -4.69041576e-01,  3.34664011e+00,\n",
              "        -8.11265028e-01,  9.27083975e-01],\n",
              "       [ 2.40022388e-01,  2.67935750e-01, -5.71040241e-01,\n",
              "        -6.72592709e-01,  2.13200716e+00, -2.98807152e-01,\n",
              "         3.30746512e-01,  8.85848053e-01],\n",
              "       [ 8.25231142e-01, -3.84373083e-01, -5.71040241e-01,\n",
              "        -6.72592709e-01, -4.69041576e-01, -2.98807152e-01,\n",
              "        -8.11265028e-01, -8.61415527e-02],\n",
              "       [-9.65228974e-01,  1.41573311e+00, -5.71040241e-01,\n",
              "         1.48678388e+00, -4.69041576e-01, -2.98807152e-01,\n",
              "         2.23409908e+00,  6.14869132e-01],\n",
              "       [-9.52688786e-01, -1.23651690e+00, -5.71040241e-01,\n",
              "         1.48678388e+00, -4.69041576e-01, -2.98807152e-01,\n",
              "        -1.19193554e+00,  2.73200059e-01],\n",
              "       [-9.60073563e-01,  2.13907402e+00, -5.71040241e-01,\n",
              "         1.48678388e+00, -4.69041576e-01, -2.98807152e-01,\n",
              "         1.09208754e+00, -1.44692700e+00],\n",
              "       [-9.02528036e-01, -3.44396442e-01, -5.71040241e-01,\n",
              "         1.48678388e+00, -4.69041576e-01, -2.98807152e-01,\n",
              "        -4.99240017e-02, -9.10860006e-01],\n",
              "       [-9.31788474e-01, -8.50735080e-01, -5.71040241e-01,\n",
              "         1.48678388e+00, -4.69041576e-01, -2.98807152e-01,\n",
              "         7.11417025e-01,  2.61418367e-01],\n",
              "       [ 1.02587414e+00,  1.89796038e+00, -5.71040241e-01,\n",
              "        -6.72592709e-01,  2.13200716e+00, -2.98807152e-01,\n",
              "         1.85342856e+00,  1.42780589e+00],\n",
              "       [-1.23643052e-01,  1.31928765e+00,  1.75119007e+00,\n",
              "        -6.72592709e-01, -4.69041576e-01,  3.34664011e+00,\n",
              "         1.47275805e+00,  6.61995901e-01],\n",
              "       [ 3.09690097e-01,  8.37060379e-01,  1.75119007e+00,\n",
              "        -6.72592709e-01, -4.69041576e-01, -2.98807152e-01,\n",
              "        -4.99240017e-02, -8.87296621e-01],\n",
              "       [-9.31788474e-01, -2.72062351e-01, -5.71040241e-01,\n",
              "         1.48678388e+00, -4.69041576e-01, -2.98807152e-01,\n",
              "        -4.99240017e-02, -1.32321923e+00],\n",
              "       [ 1.68961325e-01, -5.00011183e-01,  1.75119007e+00,\n",
              "        -6.72592709e-01, -4.69041576e-01, -2.98807152e-01,\n",
              "        -8.11265028e-01, -1.01100439e+00],\n",
              "       [ 3.23623639e-01,  1.87683883e+00, -5.71040241e-01,\n",
              "        -6.72592709e-01, -4.69041576e-01, -2.98807152e-01,\n",
              "         1.85342856e+00, -1.38801854e+00],\n",
              "       [-8.60727411e-01, -1.05809281e+00, -5.71040241e-01,\n",
              "         1.48678388e+00, -4.69041576e-01, -2.98807152e-01,\n",
              "        -8.11265028e-01, -1.50940860e-01],\n",
              "       [ 3.15217830e-03, -7.05970452e-01, -5.71040241e-01,\n",
              "        -6.72592709e-01, -4.69041576e-01, -2.98807152e-01,\n",
              "        -8.11265028e-01,  2.31964136e-01],\n",
              "       [ 2.40524909e-02,  4.51278560e-01,  1.75119007e+00,\n",
              "        -6.72592709e-01, -4.69041576e-01, -2.98807152e-01,\n",
              "        -4.30594515e-01,  1.26875305e+00],\n",
              "       [-9.65228974e-01, -2.23839624e-01, -5.71040241e-01,\n",
              "         1.48678388e+00, -4.69041576e-01,  3.34664011e+00,\n",
              "         2.23409908e+00,  1.43601445e-01],\n",
              "       [ 8.80965309e-01,  1.56040129e+00,  1.75119007e+00,\n",
              "        -6.72592709e-01, -4.69041576e-01, -2.98807152e-01,\n",
              "        -4.99240017e-02, -7.43598605e-02],\n",
              "       [ 2.99936618e-01, -1.37776127e+00,  1.75119007e+00,\n",
              "        -6.72592709e-01, -4.69041576e-01, -2.98807152e-01,\n",
              "        -1.57260606e+00, -3.74793011e-01],\n",
              "       [ 3.94077108e+00,  4.99501287e-01,  1.75119007e+00,\n",
              "        -6.72592709e-01,  2.13200716e+00, -2.98807152e-01,\n",
              "        -4.99240017e-02, -1.26431077e+00],\n",
              "       [-2.75518657e-01, -1.26101404e+00, -5.71040241e-01,\n",
              "        -6.72592709e-01, -4.69041576e-01, -2.98807152e-01,\n",
              "        -4.30594515e-01, -1.23485654e+00],\n",
              "       [-7.62690097e-02,  2.51925805e-01, -5.71040241e-01,\n",
              "        -6.72592709e-01, -4.69041576e-01,  3.34664011e+00,\n",
              "        -4.30594515e-01, -2.15740167e-01],\n",
              "       [ 5.33129286e-02,  6.92392197e-01,  1.75119007e+00,\n",
              "        -6.72592709e-01, -4.69041576e-01, -2.98807152e-01,\n",
              "        -4.99240017e-02, -1.15827554e+00],\n",
              "       [ 8.25231142e-01,  2.55204950e-01,  1.75119007e+00,\n",
              "        -6.72592709e-01, -4.69041576e-01, -2.98807152e-01,\n",
              "        -8.11265028e-01, -1.00511354e+00],\n",
              "       [-9.88915995e-01, -3.09487140e-02, -5.71040241e-01,\n",
              "         1.48678388e+00, -4.69041576e-01, -2.98807152e-01,\n",
              "         3.30746512e-01,  8.91738899e-01],\n",
              "       [-9.06708098e-01, -1.18829417e+00, -5.71040241e-01,\n",
              "         1.48678388e+00, -4.69041576e-01, -2.98807152e-01,\n",
              "        -8.11265028e-01,  1.71056651e+00],\n",
              "       [ 3.09690097e-01,  1.13806664e+00, -5.71040241e-01,\n",
              "        -6.72592709e-01, -4.69041576e-01, -2.98807152e-01,\n",
              "         3.30746512e-01,  1.08024597e+00],\n",
              "       [ 1.29947408e-01,  1.34407018e-01,  1.75119007e+00,\n",
              "        -6.72592709e-01, -4.69041576e-01, -2.98807152e-01,\n",
              "        -4.30594515e-01, -1.69434254e+00],\n",
              "       [ 6.07867891e-01, -7.54289625e-01, -5.71040241e-01,\n",
              "        -6.72592709e-01,  2.13200716e+00, -2.98807152e-01,\n",
              "        -4.99240017e-02, -1.54513996e-02],\n",
              "       [-4.52474637e-01, -8.74846444e-01, -5.71040241e-01,\n",
              "        -6.72592709e-01, -4.69041576e-01, -2.98807152e-01,\n",
              "        -8.11265028e-01,  7.26795208e-01],\n",
              "       [ 2.40022388e-01,  1.42735479e+00, -5.71040241e-01,\n",
              "        -6.72592709e-01, -4.69041576e-01, -2.98807152e-01,\n",
              "         3.30746512e-01,  5.20615595e-01],\n",
              "       [ 3.94077108e+00,  7.88837652e-01,  1.75119007e+00,\n",
              "        -6.72592709e-01,  2.13200716e+00, -2.98807152e-01,\n",
              "        -4.30594515e-01, -2.92321166e-01],\n",
              "       [-8.60727411e-01, -6.09621443e-01, -5.71040241e-01,\n",
              "         1.48678388e+00, -4.69041576e-01, -2.98807152e-01,\n",
              "        -8.11265028e-01, -4.27810626e-01],\n",
              "       [-8.64907473e-01, -2.23839624e-01, -5.71040241e-01,\n",
              "         1.48678388e+00, -4.69041576e-01, -2.98807152e-01,\n",
              "        -4.30594515e-01,  8.56393822e-01],\n",
              "       [-9.60073563e-01, -7.06066898e-01, -5.71040241e-01,\n",
              "         1.48678388e+00, -4.69041576e-01, -2.98807152e-01,\n",
              "         3.30746512e-01,  1.13326359e+00],\n",
              "       [-4.52474637e-01,  1.27106493e+00, -5.71040241e-01,\n",
              "        -6.72592709e-01, -4.69041576e-01, -2.98807152e-01,\n",
              "         1.09208754e+00,  9.97774128e-01],\n",
              "       [-2.51831636e-01,  1.18127421e+00, -5.71040241e-01,\n",
              "        -6.72592709e-01, -4.69041576e-01, -2.98807152e-01,\n",
              "         3.30746512e-01,  1.67522143e+00],\n",
              "       [-5.89023346e-01, -6.81955534e-01, -5.71040241e-01,\n",
              "         1.48678388e+00, -4.69041576e-01,  3.34664011e+00,\n",
              "        -4.99240017e-02,  1.21573543e+00],\n",
              "       [ 8.39164684e-01,  2.13907402e+00, -5.71040241e-01,\n",
              "        -6.72592709e-01, -4.69041576e-01, -2.98807152e-01,\n",
              "         3.37611062e+00,  5.26506441e-01]])"
            ]
          },
          "metadata": {
            "tags": []
          },
          "execution_count": 15
        }
      ]
    },
    {
      "cell_type": "code",
      "metadata": {
        "colab": {
          "base_uri": "https://localhost:8080/"
        },
        "id": "8eXVBOv9cgQ7",
        "outputId": "a85a58b6-dae0-4095-c489-d389eed44897"
      },
      "source": [
        "from sklearn.ensemble import RandomForestRegressor\n",
        "regressor = RandomForestRegressor(n_estimators = 10, random_state = 0)\n",
        "regressor.fit(X_train, y_train)"
      ],
      "execution_count": null,
      "outputs": [
        {
          "output_type": "stream",
          "text": [
            "/usr/local/lib/python3.7/dist-packages/ipykernel_launcher.py:3: DataConversionWarning: A column-vector y was passed when a 1d array was expected. Please change the shape of y to (n_samples,), for example using ravel().\n",
            "  This is separate from the ipykernel package so we can avoid doing imports until\n"
          ],
          "name": "stderr"
        },
        {
          "output_type": "execute_result",
          "data": {
            "text/plain": [
              "RandomForestRegressor(bootstrap=True, ccp_alpha=0.0, criterion='mse',\n",
              "                      max_depth=None, max_features='auto', max_leaf_nodes=None,\n",
              "                      max_samples=None, min_impurity_decrease=0.0,\n",
              "                      min_impurity_split=None, min_samples_leaf=1,\n",
              "                      min_samples_split=2, min_weight_fraction_leaf=0.0,\n",
              "                      n_estimators=10, n_jobs=None, oob_score=False,\n",
              "                      random_state=0, verbose=0, warm_start=False)"
            ]
          },
          "metadata": {
            "tags": []
          },
          "execution_count": 16
        }
      ]
    },
    {
      "cell_type": "code",
      "metadata": {
        "id": "Um8qUoQseTcG"
      },
      "source": [
        "yhat=regressor.predict(X_test)"
      ],
      "execution_count": null,
      "outputs": []
    },
    {
      "cell_type": "code",
      "metadata": {
        "id": "jtK_qmD8ejbg"
      },
      "source": [
        "from sklearn.metrics import mean_squared_error,r2_score"
      ],
      "execution_count": null,
      "outputs": []
    },
    {
      "cell_type": "code",
      "metadata": {
        "id": "E8G31htQeyK1"
      },
      "source": [
        "r=r2_score(y_test,yhat)"
      ],
      "execution_count": null,
      "outputs": []
    },
    {
      "cell_type": "code",
      "metadata": {
        "colab": {
          "base_uri": "https://localhost:8080/"
        },
        "id": "A5AaMs3kfCz1",
        "outputId": "e0d23b63-3cd1-45c6-f83b-517f64636249"
      },
      "source": [
        "r"
      ],
      "execution_count": null,
      "outputs": [
        {
          "output_type": "execute_result",
          "data": {
            "text/plain": [
              "0.9563720830976462"
            ]
          },
          "metadata": {
            "tags": []
          },
          "execution_count": 21
        }
      ]
    },
    {
      "cell_type": "code",
      "metadata": {
        "colab": {
          "base_uri": "https://localhost:8080/"
        },
        "id": "N7Imjk8hnk-O",
        "outputId": "5b858e36-36dd-4e89-ccb8-65ccbca4057f"
      },
      "source": [
        "from sklearn import metrics\n",
        "print('MAE:', metrics.mean_absolute_error(y_test, yhat))\n",
        "print('MSE:', metrics.mean_squared_error(y_test, yhat))\n",
        "print('RMSE:', np.sqrt(metrics.mean_squared_error(y_test, yhat)))"
      ],
      "execution_count": null,
      "outputs": [
        {
          "output_type": "stream",
          "text": [
            "MAE: 0.6514754098360658\n",
            "MSE: 1.1027967540983603\n",
            "RMSE: 1.0501413019676735\n"
          ],
          "name": "stdout"
        }
      ]
    },
    {
      "cell_type": "code",
      "metadata": {
        "colab": {
          "base_uri": "https://localhost:8080/",
          "height": 336
        },
        "id": "WFKWdsbinw3j",
        "outputId": "57e46236-b6f6-4679-b458-1cb55ebc9125"
      },
      "source": [
        "sns.distplot(y_test-yhat)"
      ],
      "execution_count": null,
      "outputs": [
        {
          "output_type": "stream",
          "text": [
            "/usr/local/lib/python3.7/dist-packages/seaborn/distributions.py:2557: FutureWarning: `distplot` is a deprecated function and will be removed in a future version. Please adapt your code to use either `displot` (a figure-level function with similar flexibility) or `histplot` (an axes-level function for histograms).\n",
            "  warnings.warn(msg, FutureWarning)\n"
          ],
          "name": "stderr"
        },
        {
          "output_type": "execute_result",
          "data": {
            "text/plain": [
              "<matplotlib.axes._subplots.AxesSubplot at 0x7f215985e6d0>"
            ]
          },
          "metadata": {
            "tags": []
          },
          "execution_count": 25
        },
        {
          "output_type": "display_data",
          "data": {
            "image/png": "[encoded data removed]",
            "text/plain": [
              "<Figure size 432x288 with 1 Axes>"
            ]
          },
          "metadata": {
            "tags": [],
            "needs_background": "light"
          }
        }
      ]
    },
    {
      "cell_type": "code",
      "metadata": {
        "colab": {
          "base_uri": "https://localhost:8080/",
          "height": 282
        },
        "id": "G5v8AL1IoC3P",
        "outputId": "d328f447-cd7d-484b-8379-e1ac62f49104"
      },
      "source": [
        "plt.scatter(y_test,yhat)"
      ],
      "execution_count": null,
      "outputs": [
        {
          "output_type": "execute_result",
          "data": {
            "text/plain": [
              "<matplotlib.collections.PathCollection at 0x7f21564a2a50>"
            ]
          },
          "metadata": {
            "tags": []
          },
          "execution_count": 26
        },
        {
          "output_type": "display_data",
          "data": {
            "image/png": "[encoded data removed]",
            "text/plain": [
              "<Figure size 432x288 with 1 Axes>"
            ]
          },
          "metadata": {
            "tags": [],
            "needs_background": "light"
          }
        }
      ]
    },
    {
      "cell_type": "code",
      "metadata": {
        "id": "_u_cnLY60uWi"
      },
      "source": [
        "from sklearn.linear_model import Lasso\n",
        "\n",
        "#Initializing the Lasso Regressor with Normalization Factor as True\n",
        "lasso_reg = Lasso(normalize=True)\n",
        "\n",
        "#Fitting the Training data to the Lasso regressor\n",
        "lasso_reg.fit(X_train,y_train)\n",
        "\n",
        "#Predicting for X_test\n",
        "y_pred_lass =lasso_reg.predict(X_test)"
      ],
      "execution_count": null,
      "outputs": []
    },
    {
      "cell_type": "code",
      "metadata": {
        "colab": {
          "base_uri": "https://localhost:8080/"
        },
        "id": "5fvVkMQ90yfV",
        "outputId": "61efc3a2-690d-4c76-a91c-bc00bc81557c"
      },
      "source": [
        "r2_score(y_test,y_pred_lass)"
      ],
      "execution_count": null,
      "outputs": [
        {
          "output_type": "execute_result",
          "data": {
            "text/plain": [
              "-0.01916292958380983"
            ]
          },
          "metadata": {
            "tags": []
          },
          "execution_count": 73
        }
      ]
    },
    {
      "cell_type": "code",
      "metadata": {
        "id": "OsEeJB5g1CWr",
        "colab": {
          "base_uri": "https://localhost:8080/"
        },
        "outputId": "76da6f70-5c9b-4098-9748-26f1b4d4accf"
      },
      "source": [
        "\n",
        "### Feature Importance\n",
        "from sklearn.ensemble import ExtraTreesRegressor\n",
        "import matplotlib.pyplot as plt\n",
        "model = ExtraTreesRegressor()\n",
        "model.fit(x,y)"
      ],
      "execution_count": null,
      "outputs": [
        {
          "output_type": "stream",
          "text": [
            "/usr/local/lib/python3.7/dist-packages/ipykernel_launcher.py:6: DataConversionWarning: A column-vector y was passed when a 1d array was expected. Please change the shape of y to (n_samples,), for example using ravel().\n",
            "  \n"
          ],
          "name": "stderr"
        },
        {
          "output_type": "execute_result",
          "data": {
            "text/plain": [
              "ExtraTreesRegressor(bootstrap=False, ccp_alpha=0.0, criterion='mse',\n",
              "                    max_depth=None, max_features='auto', max_leaf_nodes=None,\n",
              "                    max_samples=None, min_impurity_decrease=0.0,\n",
              "                    min_impurity_split=None, min_samples_leaf=1,\n",
              "                    min_samples_split=2, min_weight_fraction_leaf=0.0,\n",
              "                    n_estimators=100, n_jobs=None, oob_score=False,\n",
              "                    random_state=None, verbose=0, warm_start=False)"
            ]
          },
          "metadata": {
            "tags": []
          },
          "execution_count": 42
        }
      ]
    },
    {
      "cell_type": "code",
      "metadata": {
        "colab": {
          "base_uri": "https://localhost:8080/"
        },
        "id": "uQwDRfXv-XoU",
        "outputId": "d56b2082-9cea-4bbe-a0b0-982f329767a7"
      },
      "source": [
        "print(model.feature_importances_)"
      ],
      "execution_count": null,
      "outputs": [
        {
          "output_type": "stream",
          "text": [
            "[0.39120457 0.03468798 0.14853944 0.2538415  0.08211345 0.00070953\n",
            " 0.0784706  0.01043294]\n"
          ],
          "name": "stdout"
        }
      ]
    },
    {
      "cell_type": "code",
      "metadata": {
        "colab": {
          "base_uri": "https://localhost:8080/",
          "height": 265
        },
        "id": "g0tYDuNk-jKW",
        "outputId": "e404852e-b313-4b27-b5d5-5004aaf5f574"
      },
      "source": [
        "#plot graph of feature importances for better visualization\n",
        "feat_importances = pd.Series(model.feature_importances_, index=X.columns)\n",
        "feat_importances.nlargest(5).plot(kind='barh')\n",
        "plt.show()"
      ],
      "execution_count": null,
      "outputs": [
        {
          "output_type": "display_data",
          "data": {
            "image/png": "[encoded data removed]",
            "text/plain": [
              "<Figure size 432x288 with 1 Axes>"
            ]
          },
          "metadata": {
            "tags": [],
            "needs_background": "light"
          }
        }
      ]
    },
    {
      "cell_type": "code",
      "metadata": {
        "colab": {
          "base_uri": "https://localhost:8080/"
        },
        "id": "hxJh9ufD_VLL",
        "outputId": "f2074007-55d4-4f6f-f975-2f62b4cc4efd"
      },
      "source": [
        "n_estimators = [int(x) for x in np.linspace(start = 100, stop = 1200, num = 12)]\n",
        "print(n_estimators)\n",
        "\n",
        "from sklearn.model_selection import RandomizedSearchCV\n",
        "\n",
        "\n",
        "#Randomized Search CV\n",
        "\n",
        "# Number of trees in random forest\n",
        "n_estimators = [int(x) for x in np.linspace(start = 100, stop = 1200, num = 12)]\n",
        "# Number of features to consider at every split\n",
        "max_features = ['auto', 'sqrt']\n",
        "# Maximum number of levels in tree\n",
        "max_depth = [int(x) for x in np.linspace(5, 30, num = 6)]\n",
        "# max_depth.append(None)\n",
        "# Minimum number of samples required to split a node\n",
        "min_samples_split = [2, 5, 10, 15, 100]\n",
        "# Minimum number of samples required at each leaf node\n",
        "min_samples_leaf = [1, 2, 5, 10]\n",
        "\n",
        "\n",
        "# Create the random grid\n",
        "random_grid = {'n_estimators': n_estimators,\n",
        "               'max_features': max_features,\n",
        "               'max_depth': max_depth,\n",
        "               'min_samples_split': min_samples_split,\n",
        "               'min_samples_leaf': min_samples_leaf}\n",
        "\n",
        "print(random_grid)"
      ],
      "execution_count": null,
      "outputs": [
        {
          "output_type": "stream",
          "text": [
            "[100, 200, 300, 400, 500, 600, 700, 800, 900, 1000, 1100, 1200]\n",
            "{'n_estimators': [100, 200, 300, 400, 500, 600, 700, 800, 900, 1000, 1100, 1200], 'max_features': ['auto', 'sqrt'], 'max_depth': [5, 10, 15, 20, 25, 30], 'min_samples_split': [2, 5, 10, 15, 100], 'min_samples_leaf': [1, 2, 5, 10]}\n"
          ],
          "name": "stdout"
        }
      ]
    },
    {
      "cell_type": "code",
      "metadata": {
        "id": "GjBqRYcY_kCH"
      },
      "source": [
        "\n",
        "# Use the random grid to search for best hyperparameters\n",
        "# First create the base model to tune\n",
        "rf = RandomForestRegressor()"
      ],
      "execution_count": null,
      "outputs": []
    },
    {
      "cell_type": "code",
      "metadata": {
        "id": "jPx77_sg_m98"
      },
      "source": [
        "\n",
        "# Random search of parameters, using 3 fold cross validation, \n",
        "# search across 100 different combinations\n",
        "rf_random = RandomizedSearchCV(estimator = rf, param_distributions = random_grid,scoring='neg_mean_squared_error', n_iter = 10, cv = 5, verbose=2, random_state=42, n_jobs = 1)"
      ],
      "execution_count": null,
      "outputs": []
    },
    {
      "cell_type": "code",
      "metadata": {
        "colab": {
          "base_uri": "https://localhost:8080/"
        },
        "id": "ZBpx9sdf_ssH",
        "outputId": "97440bca-1b5b-4b0b-e7fa-3c00643a4553"
      },
      "source": [
        "rf_random.fit(X_train,y_train)"
      ],
      "execution_count": null,
      "outputs": [
        {
          "output_type": "stream",
          "text": [
            "Fitting 5 folds for each of 10 candidates, totalling 50 fits\n",
            "[CV] n_estimators=900, min_samples_split=5, min_samples_leaf=5, max_features=sqrt, max_depth=10 \n"
          ],
          "name": "stdout"
        },
        {
          "output_type": "stream",
          "text": [
            "[Parallel(n_jobs=1)]: Using backend SequentialBackend with 1 concurrent workers.\n",
            "/usr/local/lib/python3.7/dist-packages/sklearn/model_selection/_validation.py:515: DataConversionWarning: A column-vector y was passed when a 1d array was expected. Please change the shape of y to (n_samples,), for example using ravel().\n",
            "  estimator.fit(X_train, y_train, **fit_params)\n"
          ],
          "name": "stderr"
        },
        {
          "output_type": "stream",
          "text": [
            "[CV]  n_estimators=900, min_samples_split=5, min_samples_leaf=5, max_features=sqrt, max_depth=10, total=   1.1s\n",
            "[CV] n_estimators=900, min_samples_split=5, min_samples_leaf=5, max_features=sqrt, max_depth=10 \n"
          ],
          "name": "stdout"
        },
        {
          "output_type": "stream",
          "text": [
            "[Parallel(n_jobs=1)]: Done   1 out of   1 | elapsed:    1.1s remaining:    0.0s\n",
            "/usr/local/lib/python3.7/dist-packages/sklearn/model_selection/_validation.py:515: DataConversionWarning: A column-vector y was passed when a 1d array was expected. Please change the shape of y to (n_samples,), for example using ravel().\n",
            "  estimator.fit(X_train, y_train, **fit_params)\n"
          ],
          "name": "stderr"
        },
        {
          "output_type": "stream",
          "text": [
            "[CV]  n_estimators=900, min_samples_split=5, min_samples_leaf=5, max_features=sqrt, max_depth=10, total=   1.1s\n",
            "[CV] n_estimators=900, min_samples_split=5, min_samples_leaf=5, max_features=sqrt, max_depth=10 \n"
          ],
          "name": "stdout"
        },
        {
          "output_type": "stream",
          "text": [
            "/usr/local/lib/python3.7/dist-packages/sklearn/model_selection/_validation.py:515: DataConversionWarning: A column-vector y was passed when a 1d array was expected. Please change the shape of y to (n_samples,), for example using ravel().\n",
            "  estimator.fit(X_train, y_train, **fit_params)\n"
          ],
          "name": "stderr"
        },
        {
          "output_type": "stream",
          "text": [
            "[CV]  n_estimators=900, min_samples_split=5, min_samples_leaf=5, max_features=sqrt, max_depth=10, total=   1.1s\n",
            "[CV] n_estimators=900, min_samples_split=5, min_samples_leaf=5, max_features=sqrt, max_depth=10 \n"
          ],
          "name": "stdout"
        },
        {
          "output_type": "stream",
          "text": [
            "/usr/local/lib/python3.7/dist-packages/sklearn/model_selection/_validation.py:515: DataConversionWarning: A column-vector y was passed when a 1d array was expected. Please change the shape of y to (n_samples,), for example using ravel().\n",
            "  estimator.fit(X_train, y_train, **fit_params)\n"
          ],
          "name": "stderr"
        },
        {
          "output_type": "stream",
          "text": [
            "[CV]  n_estimators=900, min_samples_split=5, min_samples_leaf=5, max_features=sqrt, max_depth=10, total=   1.1s\n",
            "[CV] n_estimators=900, min_samples_split=5, min_samples_leaf=5, max_features=sqrt, max_depth=10 \n"
          ],
          "name": "stdout"
        },
        {
          "output_type": "stream",
          "text": [
            "/usr/local/lib/python3.7/dist-packages/sklearn/model_selection/_validation.py:515: DataConversionWarning: A column-vector y was passed when a 1d array was expected. Please change the shape of y to (n_samples,), for example using ravel().\n",
            "  estimator.fit(X_train, y_train, **fit_params)\n"
          ],
          "name": "stderr"
        },
        {
          "output_type": "stream",
          "text": [
            "[CV]  n_estimators=900, min_samples_split=5, min_samples_leaf=5, max_features=sqrt, max_depth=10, total=   1.1s\n",
            "[CV] n_estimators=1100, min_samples_split=10, min_samples_leaf=2, max_features=sqrt, max_depth=15 \n"
          ],
          "name": "stdout"
        },
        {
          "output_type": "stream",
          "text": [
            "/usr/local/lib/python3.7/dist-packages/sklearn/model_selection/_validation.py:515: DataConversionWarning: A column-vector y was passed when a 1d array was expected. Please change the shape of y to (n_samples,), for example using ravel().\n",
            "  estimator.fit(X_train, y_train, **fit_params)\n"
          ],
          "name": "stderr"
        },
        {
          "output_type": "stream",
          "text": [
            "[CV]  n_estimators=1100, min_samples_split=10, min_samples_leaf=2, max_features=sqrt, max_depth=15, total=   1.3s\n",
            "[CV] n_estimators=1100, min_samples_split=10, min_samples_leaf=2, max_features=sqrt, max_depth=15 \n"
          ],
          "name": "stdout"
        },
        {
          "output_type": "stream",
          "text": [
            "/usr/local/lib/python3.7/dist-packages/sklearn/model_selection/_validation.py:515: DataConversionWarning: A column-vector y was passed when a 1d array was expected. Please change the shape of y to (n_samples,), for example using ravel().\n",
            "  estimator.fit(X_train, y_train, **fit_params)\n"
          ],
          "name": "stderr"
        },
        {
          "output_type": "stream",
          "text": [
            "[CV]  n_estimators=1100, min_samples_split=10, min_samples_leaf=2, max_features=sqrt, max_depth=15, total=   1.3s\n",
            "[CV] n_estimators=1100, min_samples_split=10, min_samples_leaf=2, max_features=sqrt, max_depth=15 \n"
          ],
          "name": "stdout"
        },
        {
          "output_type": "stream",
          "text": [
            "/usr/local/lib/python3.7/dist-packages/sklearn/model_selection/_validation.py:515: DataConversionWarning: A column-vector y was passed when a 1d array was expected. Please change the shape of y to (n_samples,), for example using ravel().\n",
            "  estimator.fit(X_train, y_train, **fit_params)\n"
          ],
          "name": "stderr"
        },
        {
          "output_type": "stream",
          "text": [
            "[CV]  n_estimators=1100, min_samples_split=10, min_samples_leaf=2, max_features=sqrt, max_depth=15, total=   1.3s\n",
            "[CV] n_estimators=1100, min_samples_split=10, min_samples_leaf=2, max_features=sqrt, max_depth=15 \n"
          ],
          "name": "stdout"
        },
        {
          "output_type": "stream",
          "text": [
            "/usr/local/lib/python3.7/dist-packages/sklearn/model_selection/_validation.py:515: DataConversionWarning: A column-vector y was passed when a 1d array was expected. Please change the shape of y to (n_samples,), for example using ravel().\n",
            "  estimator.fit(X_train, y_train, **fit_params)\n"
          ],
          "name": "stderr"
        },
        {
          "output_type": "stream",
          "text": [
            "[CV]  n_estimators=1100, min_samples_split=10, min_samples_leaf=2, max_features=sqrt, max_depth=15, total=   1.4s\n",
            "[CV] n_estimators=1100, min_samples_split=10, min_samples_leaf=2, max_features=sqrt, max_depth=15 \n"
          ],
          "name": "stdout"
        },
        {
          "output_type": "stream",
          "text": [
            "/usr/local/lib/python3.7/dist-packages/sklearn/model_selection/_validation.py:515: DataConversionWarning: A column-vector y was passed when a 1d array was expected. Please change the shape of y to (n_samples,), for example using ravel().\n",
            "  estimator.fit(X_train, y_train, **fit_params)\n"
          ],
          "name": "stderr"
        },
        {
          "output_type": "stream",
          "text": [
            "[CV]  n_estimators=1100, min_samples_split=10, min_samples_leaf=2, max_features=sqrt, max_depth=15, total=   1.3s\n",
            "[CV] n_estimators=300, min_samples_split=100, min_samples_leaf=5, max_features=auto, max_depth=15 \n"
          ],
          "name": "stdout"
        },
        {
          "output_type": "stream",
          "text": [
            "/usr/local/lib/python3.7/dist-packages/sklearn/model_selection/_validation.py:515: DataConversionWarning: A column-vector y was passed when a 1d array was expected. Please change the shape of y to (n_samples,), for example using ravel().\n",
            "  estimator.fit(X_train, y_train, **fit_params)\n"
          ],
          "name": "stderr"
        },
        {
          "output_type": "stream",
          "text": [
            "[CV]  n_estimators=300, min_samples_split=100, min_samples_leaf=5, max_features=auto, max_depth=15, total=   0.4s\n",
            "[CV] n_estimators=300, min_samples_split=100, min_samples_leaf=5, max_features=auto, max_depth=15 \n"
          ],
          "name": "stdout"
        },
        {
          "output_type": "stream",
          "text": [
            "/usr/local/lib/python3.7/dist-packages/sklearn/model_selection/_validation.py:515: DataConversionWarning: A column-vector y was passed when a 1d array was expected. Please change the shape of y to (n_samples,), for example using ravel().\n",
            "  estimator.fit(X_train, y_train, **fit_params)\n"
          ],
          "name": "stderr"
        },
        {
          "output_type": "stream",
          "text": [
            "[CV]  n_estimators=300, min_samples_split=100, min_samples_leaf=5, max_features=auto, max_depth=15, total=   0.4s\n",
            "[CV] n_estimators=300, min_samples_split=100, min_samples_leaf=5, max_features=auto, max_depth=15 \n"
          ],
          "name": "stdout"
        },
        {
          "output_type": "stream",
          "text": [
            "/usr/local/lib/python3.7/dist-packages/sklearn/model_selection/_validation.py:515: DataConversionWarning: A column-vector y was passed when a 1d array was expected. Please change the shape of y to (n_samples,), for example using ravel().\n",
            "  estimator.fit(X_train, y_train, **fit_params)\n"
          ],
          "name": "stderr"
        },
        {
          "output_type": "stream",
          "text": [
            "[CV]  n_estimators=300, min_samples_split=100, min_samples_leaf=5, max_features=auto, max_depth=15, total=   0.3s\n",
            "[CV] n_estimators=300, min_samples_split=100, min_samples_leaf=5, max_features=auto, max_depth=15 \n"
          ],
          "name": "stdout"
        },
        {
          "output_type": "stream",
          "text": [
            "/usr/local/lib/python3.7/dist-packages/sklearn/model_selection/_validation.py:515: DataConversionWarning: A column-vector y was passed when a 1d array was expected. Please change the shape of y to (n_samples,), for example using ravel().\n",
            "  estimator.fit(X_train, y_train, **fit_params)\n"
          ],
          "name": "stderr"
        },
        {
          "output_type": "stream",
          "text": [
            "[CV]  n_estimators=300, min_samples_split=100, min_samples_leaf=5, max_features=auto, max_depth=15, total=   0.4s\n",
            "[CV] n_estimators=300, min_samples_split=100, min_samples_leaf=5, max_features=auto, max_depth=15 \n"
          ],
          "name": "stdout"
        },
        {
          "output_type": "stream",
          "text": [
            "/usr/local/lib/python3.7/dist-packages/sklearn/model_selection/_validation.py:515: DataConversionWarning: A column-vector y was passed when a 1d array was expected. Please change the shape of y to (n_samples,), for example using ravel().\n",
            "  estimator.fit(X_train, y_train, **fit_params)\n"
          ],
          "name": "stderr"
        },
        {
          "output_type": "stream",
          "text": [
            "[CV]  n_estimators=300, min_samples_split=100, min_samples_leaf=5, max_features=auto, max_depth=15, total=   0.4s\n",
            "[CV] n_estimators=400, min_samples_split=5, min_samples_leaf=5, max_features=auto, max_depth=15 \n"
          ],
          "name": "stdout"
        },
        {
          "output_type": "stream",
          "text": [
            "/usr/local/lib/python3.7/dist-packages/sklearn/model_selection/_validation.py:515: DataConversionWarning: A column-vector y was passed when a 1d array was expected. Please change the shape of y to (n_samples,), for example using ravel().\n",
            "  estimator.fit(X_train, y_train, **fit_params)\n"
          ],
          "name": "stderr"
        },
        {
          "output_type": "stream",
          "text": [
            "[CV]  n_estimators=400, min_samples_split=5, min_samples_leaf=5, max_features=auto, max_depth=15, total=   0.5s\n",
            "[CV] n_estimators=400, min_samples_split=5, min_samples_leaf=5, max_features=auto, max_depth=15 \n"
          ],
          "name": "stdout"
        },
        {
          "output_type": "stream",
          "text": [
            "/usr/local/lib/python3.7/dist-packages/sklearn/model_selection/_validation.py:515: DataConversionWarning: A column-vector y was passed when a 1d array was expected. Please change the shape of y to (n_samples,), for example using ravel().\n",
            "  estimator.fit(X_train, y_train, **fit_params)\n"
          ],
          "name": "stderr"
        },
        {
          "output_type": "stream",
          "text": [
            "[CV]  n_estimators=400, min_samples_split=5, min_samples_leaf=5, max_features=auto, max_depth=15, total=   0.5s\n",
            "[CV] n_estimators=400, min_samples_split=5, min_samples_leaf=5, max_features=auto, max_depth=15 \n"
          ],
          "name": "stdout"
        },
        {
          "output_type": "stream",
          "text": [
            "/usr/local/lib/python3.7/dist-packages/sklearn/model_selection/_validation.py:515: DataConversionWarning: A column-vector y was passed when a 1d array was expected. Please change the shape of y to (n_samples,), for example using ravel().\n",
            "  estimator.fit(X_train, y_train, **fit_params)\n"
          ],
          "name": "stderr"
        },
        {
          "output_type": "stream",
          "text": [
            "[CV]  n_estimators=400, min_samples_split=5, min_samples_leaf=5, max_features=auto, max_depth=15, total=   0.5s\n",
            "[CV] n_estimators=400, min_samples_split=5, min_samples_leaf=5, max_features=auto, max_depth=15 \n"
          ],
          "name": "stdout"
        },
        {
          "output_type": "stream",
          "text": [
            "/usr/local/lib/python3.7/dist-packages/sklearn/model_selection/_validation.py:515: DataConversionWarning: A column-vector y was passed when a 1d array was expected. Please change the shape of y to (n_samples,), for example using ravel().\n",
            "  estimator.fit(X_train, y_train, **fit_params)\n"
          ],
          "name": "stderr"
        },
        {
          "output_type": "stream",
          "text": [
            "[CV]  n_estimators=400, min_samples_split=5, min_samples_leaf=5, max_features=auto, max_depth=15, total=   0.6s\n",
            "[CV] n_estimators=400, min_samples_split=5, min_samples_leaf=5, max_features=auto, max_depth=15 \n"
          ],
          "name": "stdout"
        },
        {
          "output_type": "stream",
          "text": [
            "/usr/local/lib/python3.7/dist-packages/sklearn/model_selection/_validation.py:515: DataConversionWarning: A column-vector y was passed when a 1d array was expected. Please change the shape of y to (n_samples,), for example using ravel().\n",
            "  estimator.fit(X_train, y_train, **fit_params)\n"
          ],
          "name": "stderr"
        },
        {
          "output_type": "stream",
          "text": [
            "[CV]  n_estimators=400, min_samples_split=5, min_samples_leaf=5, max_features=auto, max_depth=15, total=   0.5s\n",
            "[CV] n_estimators=700, min_samples_split=5, min_samples_leaf=10, max_features=auto, max_depth=20 \n"
          ],
          "name": "stdout"
        },
        {
          "output_type": "stream",
          "text": [
            "/usr/local/lib/python3.7/dist-packages/sklearn/model_selection/_validation.py:515: DataConversionWarning: A column-vector y was passed when a 1d array was expected. Please change the shape of y to (n_samples,), for example using ravel().\n",
            "  estimator.fit(X_train, y_train, **fit_params)\n"
          ],
          "name": "stderr"
        },
        {
          "output_type": "stream",
          "text": [
            "[CV]  n_estimators=700, min_samples_split=5, min_samples_leaf=10, max_features=auto, max_depth=20, total=   0.9s\n",
            "[CV] n_estimators=700, min_samples_split=5, min_samples_leaf=10, max_features=auto, max_depth=20 \n"
          ],
          "name": "stdout"
        },
        {
          "output_type": "stream",
          "text": [
            "/usr/local/lib/python3.7/dist-packages/sklearn/model_selection/_validation.py:515: DataConversionWarning: A column-vector y was passed when a 1d array was expected. Please change the shape of y to (n_samples,), for example using ravel().\n",
            "  estimator.fit(X_train, y_train, **fit_params)\n"
          ],
          "name": "stderr"
        },
        {
          "output_type": "stream",
          "text": [
            "[CV]  n_estimators=700, min_samples_split=5, min_samples_leaf=10, max_features=auto, max_depth=20, total=   0.9s\n",
            "[CV] n_estimators=700, min_samples_split=5, min_samples_leaf=10, max_features=auto, max_depth=20 \n"
          ],
          "name": "stdout"
        },
        {
          "output_type": "stream",
          "text": [
            "/usr/local/lib/python3.7/dist-packages/sklearn/model_selection/_validation.py:515: DataConversionWarning: A column-vector y was passed when a 1d array was expected. Please change the shape of y to (n_samples,), for example using ravel().\n",
            "  estimator.fit(X_train, y_train, **fit_params)\n"
          ],
          "name": "stderr"
        },
        {
          "output_type": "stream",
          "text": [
            "[CV]  n_estimators=700, min_samples_split=5, min_samples_leaf=10, max_features=auto, max_depth=20, total=   1.0s\n",
            "[CV] n_estimators=700, min_samples_split=5, min_samples_leaf=10, max_features=auto, max_depth=20 \n"
          ],
          "name": "stdout"
        },
        {
          "output_type": "stream",
          "text": [
            "/usr/local/lib/python3.7/dist-packages/sklearn/model_selection/_validation.py:515: DataConversionWarning: A column-vector y was passed when a 1d array was expected. Please change the shape of y to (n_samples,), for example using ravel().\n",
            "  estimator.fit(X_train, y_train, **fit_params)\n"
          ],
          "name": "stderr"
        },
        {
          "output_type": "stream",
          "text": [
            "[CV]  n_estimators=700, min_samples_split=5, min_samples_leaf=10, max_features=auto, max_depth=20, total=   0.9s\n",
            "[CV] n_estimators=700, min_samples_split=5, min_samples_leaf=10, max_features=auto, max_depth=20 \n"
          ],
          "name": "stdout"
        },
        {
          "output_type": "stream",
          "text": [
            "/usr/local/lib/python3.7/dist-packages/sklearn/model_selection/_validation.py:515: DataConversionWarning: A column-vector y was passed when a 1d array was expected. Please change the shape of y to (n_samples,), for example using ravel().\n",
            "  estimator.fit(X_train, y_train, **fit_params)\n"
          ],
          "name": "stderr"
        },
        {
          "output_type": "stream",
          "text": [
            "[CV]  n_estimators=700, min_samples_split=5, min_samples_leaf=10, max_features=auto, max_depth=20, total=   0.9s\n",
            "[CV] n_estimators=1000, min_samples_split=2, min_samples_leaf=1, max_features=sqrt, max_depth=25 \n"
          ],
          "name": "stdout"
        },
        {
          "output_type": "stream",
          "text": [
            "/usr/local/lib/python3.7/dist-packages/sklearn/model_selection/_validation.py:515: DataConversionWarning: A column-vector y was passed when a 1d array was expected. Please change the shape of y to (n_samples,), for example using ravel().\n",
            "  estimator.fit(X_train, y_train, **fit_params)\n"
          ],
          "name": "stderr"
        },
        {
          "output_type": "stream",
          "text": [
            "[CV]  n_estimators=1000, min_samples_split=2, min_samples_leaf=1, max_features=sqrt, max_depth=25, total=   1.4s\n",
            "[CV] n_estimators=1000, min_samples_split=2, min_samples_leaf=1, max_features=sqrt, max_depth=25 \n"
          ],
          "name": "stdout"
        },
        {
          "output_type": "stream",
          "text": [
            "/usr/local/lib/python3.7/dist-packages/sklearn/model_selection/_validation.py:515: DataConversionWarning: A column-vector y was passed when a 1d array was expected. Please change the shape of y to (n_samples,), for example using ravel().\n",
            "  estimator.fit(X_train, y_train, **fit_params)\n"
          ],
          "name": "stderr"
        },
        {
          "output_type": "stream",
          "text": [
            "[CV]  n_estimators=1000, min_samples_split=2, min_samples_leaf=1, max_features=sqrt, max_depth=25, total=   1.3s\n",
            "[CV] n_estimators=1000, min_samples_split=2, min_samples_leaf=1, max_features=sqrt, max_depth=25 \n"
          ],
          "name": "stdout"
        },
        {
          "output_type": "stream",
          "text": [
            "/usr/local/lib/python3.7/dist-packages/sklearn/model_selection/_validation.py:515: DataConversionWarning: A column-vector y was passed when a 1d array was expected. Please change the shape of y to (n_samples,), for example using ravel().\n",
            "  estimator.fit(X_train, y_train, **fit_params)\n"
          ],
          "name": "stderr"
        },
        {
          "output_type": "stream",
          "text": [
            "[CV]  n_estimators=1000, min_samples_split=2, min_samples_leaf=1, max_features=sqrt, max_depth=25, total=   1.3s\n",
            "[CV] n_estimators=1000, min_samples_split=2, min_samples_leaf=1, max_features=sqrt, max_depth=25 \n"
          ],
          "name": "stdout"
        },
        {
          "output_type": "stream",
          "text": [
            "/usr/local/lib/python3.7/dist-packages/sklearn/model_selection/_validation.py:515: DataConversionWarning: A column-vector y was passed when a 1d array was expected. Please change the shape of y to (n_samples,), for example using ravel().\n",
            "  estimator.fit(X_train, y_train, **fit_params)\n"
          ],
          "name": "stderr"
        },
        {
          "output_type": "stream",
          "text": [
            "[CV]  n_estimators=1000, min_samples_split=2, min_samples_leaf=1, max_features=sqrt, max_depth=25, total=   1.3s\n",
            "[CV] n_estimators=1000, min_samples_split=2, min_samples_leaf=1, max_features=sqrt, max_depth=25 \n"
          ],
          "name": "stdout"
        },
        {
          "output_type": "stream",
          "text": [
            "/usr/local/lib/python3.7/dist-packages/sklearn/model_selection/_validation.py:515: DataConversionWarning: A column-vector y was passed when a 1d array was expected. Please change the shape of y to (n_samples,), for example using ravel().\n",
            "  estimator.fit(X_train, y_train, **fit_params)\n"
          ],
          "name": "stderr"
        },
        {
          "output_type": "stream",
          "text": [
            "[CV]  n_estimators=1000, min_samples_split=2, min_samples_leaf=1, max_features=sqrt, max_depth=25, total=   1.3s\n",
            "[CV] n_estimators=1100, min_samples_split=15, min_samples_leaf=10, max_features=sqrt, max_depth=5 \n"
          ],
          "name": "stdout"
        },
        {
          "output_type": "stream",
          "text": [
            "/usr/local/lib/python3.7/dist-packages/sklearn/model_selection/_validation.py:515: DataConversionWarning: A column-vector y was passed when a 1d array was expected. Please change the shape of y to (n_samples,), for example using ravel().\n",
            "  estimator.fit(X_train, y_train, **fit_params)\n"
          ],
          "name": "stderr"
        },
        {
          "output_type": "stream",
          "text": [
            "[CV]  n_estimators=1100, min_samples_split=15, min_samples_leaf=10, max_features=sqrt, max_depth=5, total=   1.3s\n",
            "[CV] n_estimators=1100, min_samples_split=15, min_samples_leaf=10, max_features=sqrt, max_depth=5 \n"
          ],
          "name": "stdout"
        },
        {
          "output_type": "stream",
          "text": [
            "/usr/local/lib/python3.7/dist-packages/sklearn/model_selection/_validation.py:515: DataConversionWarning: A column-vector y was passed when a 1d array was expected. Please change the shape of y to (n_samples,), for example using ravel().\n",
            "  estimator.fit(X_train, y_train, **fit_params)\n"
          ],
          "name": "stderr"
        },
        {
          "output_type": "stream",
          "text": [
            "[CV]  n_estimators=1100, min_samples_split=15, min_samples_leaf=10, max_features=sqrt, max_depth=5, total=   1.3s\n",
            "[CV] n_estimators=1100, min_samples_split=15, min_samples_leaf=10, max_features=sqrt, max_depth=5 \n"
          ],
          "name": "stdout"
        },
        {
          "output_type": "stream",
          "text": [
            "/usr/local/lib/python3.7/dist-packages/sklearn/model_selection/_validation.py:515: DataConversionWarning: A column-vector y was passed when a 1d array was expected. Please change the shape of y to (n_samples,), for example using ravel().\n",
            "  estimator.fit(X_train, y_train, **fit_params)\n"
          ],
          "name": "stderr"
        },
        {
          "output_type": "stream",
          "text": [
            "[CV]  n_estimators=1100, min_samples_split=15, min_samples_leaf=10, max_features=sqrt, max_depth=5, total=   1.3s\n",
            "[CV] n_estimators=1100, min_samples_split=15, min_samples_leaf=10, max_features=sqrt, max_depth=5 \n"
          ],
          "name": "stdout"
        },
        {
          "output_type": "stream",
          "text": [
            "/usr/local/lib/python3.7/dist-packages/sklearn/model_selection/_validation.py:515: DataConversionWarning: A column-vector y was passed when a 1d array was expected. Please change the shape of y to (n_samples,), for example using ravel().\n",
            "  estimator.fit(X_train, y_train, **fit_params)\n"
          ],
          "name": "stderr"
        },
        {
          "output_type": "stream",
          "text": [
            "[CV]  n_estimators=1100, min_samples_split=15, min_samples_leaf=10, max_features=sqrt, max_depth=5, total=   1.3s\n",
            "[CV] n_estimators=1100, min_samples_split=15, min_samples_leaf=10, max_features=sqrt, max_depth=5 \n"
          ],
          "name": "stdout"
        },
        {
          "output_type": "stream",
          "text": [
            "/usr/local/lib/python3.7/dist-packages/sklearn/model_selection/_validation.py:515: DataConversionWarning: A column-vector y was passed when a 1d array was expected. Please change the shape of y to (n_samples,), for example using ravel().\n",
            "  estimator.fit(X_train, y_train, **fit_params)\n"
          ],
          "name": "stderr"
        },
        {
          "output_type": "stream",
          "text": [
            "[CV]  n_estimators=1100, min_samples_split=15, min_samples_leaf=10, max_features=sqrt, max_depth=5, total=   1.3s\n",
            "[CV] n_estimators=300, min_samples_split=15, min_samples_leaf=1, max_features=sqrt, max_depth=15 \n"
          ],
          "name": "stdout"
        },
        {
          "output_type": "stream",
          "text": [
            "/usr/local/lib/python3.7/dist-packages/sklearn/model_selection/_validation.py:515: DataConversionWarning: A column-vector y was passed when a 1d array was expected. Please change the shape of y to (n_samples,), for example using ravel().\n",
            "  estimator.fit(X_train, y_train, **fit_params)\n"
          ],
          "name": "stderr"
        },
        {
          "output_type": "stream",
          "text": [
            "[CV]  n_estimators=300, min_samples_split=15, min_samples_leaf=1, max_features=sqrt, max_depth=15, total=   0.4s\n",
            "[CV] n_estimators=300, min_samples_split=15, min_samples_leaf=1, max_features=sqrt, max_depth=15 \n"
          ],
          "name": "stdout"
        },
        {
          "output_type": "stream",
          "text": [
            "/usr/local/lib/python3.7/dist-packages/sklearn/model_selection/_validation.py:515: DataConversionWarning: A column-vector y was passed when a 1d array was expected. Please change the shape of y to (n_samples,), for example using ravel().\n",
            "  estimator.fit(X_train, y_train, **fit_params)\n"
          ],
          "name": "stderr"
        },
        {
          "output_type": "stream",
          "text": [
            "[CV]  n_estimators=300, min_samples_split=15, min_samples_leaf=1, max_features=sqrt, max_depth=15, total=   0.4s\n",
            "[CV] n_estimators=300, min_samples_split=15, min_samples_leaf=1, max_features=sqrt, max_depth=15 \n"
          ],
          "name": "stdout"
        },
        {
          "output_type": "stream",
          "text": [
            "/usr/local/lib/python3.7/dist-packages/sklearn/model_selection/_validation.py:515: DataConversionWarning: A column-vector y was passed when a 1d array was expected. Please change the shape of y to (n_samples,), for example using ravel().\n",
            "  estimator.fit(X_train, y_train, **fit_params)\n"
          ],
          "name": "stderr"
        },
        {
          "output_type": "stream",
          "text": [
            "[CV]  n_estimators=300, min_samples_split=15, min_samples_leaf=1, max_features=sqrt, max_depth=15, total=   0.4s\n",
            "[CV] n_estimators=300, min_samples_split=15, min_samples_leaf=1, max_features=sqrt, max_depth=15 \n"
          ],
          "name": "stdout"
        },
        {
          "output_type": "stream",
          "text": [
            "/usr/local/lib/python3.7/dist-packages/sklearn/model_selection/_validation.py:515: DataConversionWarning: A column-vector y was passed when a 1d array was expected. Please change the shape of y to (n_samples,), for example using ravel().\n",
            "  estimator.fit(X_train, y_train, **fit_params)\n"
          ],
          "name": "stderr"
        },
        {
          "output_type": "stream",
          "text": [
            "[CV]  n_estimators=300, min_samples_split=15, min_samples_leaf=1, max_features=sqrt, max_depth=15, total=   0.4s\n",
            "[CV] n_estimators=300, min_samples_split=15, min_samples_leaf=1, max_features=sqrt, max_depth=15 \n"
          ],
          "name": "stdout"
        },
        {
          "output_type": "stream",
          "text": [
            "/usr/local/lib/python3.7/dist-packages/sklearn/model_selection/_validation.py:515: DataConversionWarning: A column-vector y was passed when a 1d array was expected. Please change the shape of y to (n_samples,), for example using ravel().\n",
            "  estimator.fit(X_train, y_train, **fit_params)\n"
          ],
          "name": "stderr"
        },
        {
          "output_type": "stream",
          "text": [
            "[CV]  n_estimators=300, min_samples_split=15, min_samples_leaf=1, max_features=sqrt, max_depth=15, total=   0.4s\n",
            "[CV] n_estimators=700, min_samples_split=10, min_samples_leaf=2, max_features=sqrt, max_depth=5 \n"
          ],
          "name": "stdout"
        },
        {
          "output_type": "stream",
          "text": [
            "/usr/local/lib/python3.7/dist-packages/sklearn/model_selection/_validation.py:515: DataConversionWarning: A column-vector y was passed when a 1d array was expected. Please change the shape of y to (n_samples,), for example using ravel().\n",
            "  estimator.fit(X_train, y_train, **fit_params)\n"
          ],
          "name": "stderr"
        },
        {
          "output_type": "stream",
          "text": [
            "[CV]  n_estimators=700, min_samples_split=10, min_samples_leaf=2, max_features=sqrt, max_depth=5, total=   0.8s\n",
            "[CV] n_estimators=700, min_samples_split=10, min_samples_leaf=2, max_features=sqrt, max_depth=5 \n"
          ],
          "name": "stdout"
        },
        {
          "output_type": "stream",
          "text": [
            "/usr/local/lib/python3.7/dist-packages/sklearn/model_selection/_validation.py:515: DataConversionWarning: A column-vector y was passed when a 1d array was expected. Please change the shape of y to (n_samples,), for example using ravel().\n",
            "  estimator.fit(X_train, y_train, **fit_params)\n"
          ],
          "name": "stderr"
        },
        {
          "output_type": "stream",
          "text": [
            "[CV]  n_estimators=700, min_samples_split=10, min_samples_leaf=2, max_features=sqrt, max_depth=5, total=   0.9s\n",
            "[CV] n_estimators=700, min_samples_split=10, min_samples_leaf=2, max_features=sqrt, max_depth=5 \n"
          ],
          "name": "stdout"
        },
        {
          "output_type": "stream",
          "text": [
            "/usr/local/lib/python3.7/dist-packages/sklearn/model_selection/_validation.py:515: DataConversionWarning: A column-vector y was passed when a 1d array was expected. Please change the shape of y to (n_samples,), for example using ravel().\n",
            "  estimator.fit(X_train, y_train, **fit_params)\n"
          ],
          "name": "stderr"
        },
        {
          "output_type": "stream",
          "text": [
            "[CV]  n_estimators=700, min_samples_split=10, min_samples_leaf=2, max_features=sqrt, max_depth=5, total=   0.8s\n",
            "[CV] n_estimators=700, min_samples_split=10, min_samples_leaf=2, max_features=sqrt, max_depth=5 \n"
          ],
          "name": "stdout"
        },
        {
          "output_type": "stream",
          "text": [
            "/usr/local/lib/python3.7/dist-packages/sklearn/model_selection/_validation.py:515: DataConversionWarning: A column-vector y was passed when a 1d array was expected. Please change the shape of y to (n_samples,), for example using ravel().\n",
            "  estimator.fit(X_train, y_train, **fit_params)\n"
          ],
          "name": "stderr"
        },
        {
          "output_type": "stream",
          "text": [
            "[CV]  n_estimators=700, min_samples_split=10, min_samples_leaf=2, max_features=sqrt, max_depth=5, total=   0.8s\n",
            "[CV] n_estimators=700, min_samples_split=10, min_samples_leaf=2, max_features=sqrt, max_depth=5 \n"
          ],
          "name": "stdout"
        },
        {
          "output_type": "stream",
          "text": [
            "/usr/local/lib/python3.7/dist-packages/sklearn/model_selection/_validation.py:515: DataConversionWarning: A column-vector y was passed when a 1d array was expected. Please change the shape of y to (n_samples,), for example using ravel().\n",
            "  estimator.fit(X_train, y_train, **fit_params)\n"
          ],
          "name": "stderr"
        },
        {
          "output_type": "stream",
          "text": [
            "[CV]  n_estimators=700, min_samples_split=10, min_samples_leaf=2, max_features=sqrt, max_depth=5, total=   0.8s\n",
            "[CV] n_estimators=700, min_samples_split=15, min_samples_leaf=1, max_features=auto, max_depth=20 \n"
          ],
          "name": "stdout"
        },
        {
          "output_type": "stream",
          "text": [
            "/usr/local/lib/python3.7/dist-packages/sklearn/model_selection/_validation.py:515: DataConversionWarning: A column-vector y was passed when a 1d array was expected. Please change the shape of y to (n_samples,), for example using ravel().\n",
            "  estimator.fit(X_train, y_train, **fit_params)\n"
          ],
          "name": "stderr"
        },
        {
          "output_type": "stream",
          "text": [
            "[CV]  n_estimators=700, min_samples_split=15, min_samples_leaf=1, max_features=auto, max_depth=20, total=   0.9s\n",
            "[CV] n_estimators=700, min_samples_split=15, min_samples_leaf=1, max_features=auto, max_depth=20 \n"
          ],
          "name": "stdout"
        },
        {
          "output_type": "stream",
          "text": [
            "/usr/local/lib/python3.7/dist-packages/sklearn/model_selection/_validation.py:515: DataConversionWarning: A column-vector y was passed when a 1d array was expected. Please change the shape of y to (n_samples,), for example using ravel().\n",
            "  estimator.fit(X_train, y_train, **fit_params)\n"
          ],
          "name": "stderr"
        },
        {
          "output_type": "stream",
          "text": [
            "[CV]  n_estimators=700, min_samples_split=15, min_samples_leaf=1, max_features=auto, max_depth=20, total=   0.9s\n",
            "[CV] n_estimators=700, min_samples_split=15, min_samples_leaf=1, max_features=auto, max_depth=20 \n"
          ],
          "name": "stdout"
        },
        {
          "output_type": "stream",
          "text": [
            "/usr/local/lib/python3.7/dist-packages/sklearn/model_selection/_validation.py:515: DataConversionWarning: A column-vector y was passed when a 1d array was expected. Please change the shape of y to (n_samples,), for example using ravel().\n",
            "  estimator.fit(X_train, y_train, **fit_params)\n"
          ],
          "name": "stderr"
        },
        {
          "output_type": "stream",
          "text": [
            "[CV]  n_estimators=700, min_samples_split=15, min_samples_leaf=1, max_features=auto, max_depth=20, total=   0.9s\n",
            "[CV] n_estimators=700, min_samples_split=15, min_samples_leaf=1, max_features=auto, max_depth=20 \n"
          ],
          "name": "stdout"
        },
        {
          "output_type": "stream",
          "text": [
            "/usr/local/lib/python3.7/dist-packages/sklearn/model_selection/_validation.py:515: DataConversionWarning: A column-vector y was passed when a 1d array was expected. Please change the shape of y to (n_samples,), for example using ravel().\n",
            "  estimator.fit(X_train, y_train, **fit_params)\n"
          ],
          "name": "stderr"
        },
        {
          "output_type": "stream",
          "text": [
            "[CV]  n_estimators=700, min_samples_split=15, min_samples_leaf=1, max_features=auto, max_depth=20, total=   0.9s\n",
            "[CV] n_estimators=700, min_samples_split=15, min_samples_leaf=1, max_features=auto, max_depth=20 \n"
          ],
          "name": "stdout"
        },
        {
          "output_type": "stream",
          "text": [
            "/usr/local/lib/python3.7/dist-packages/sklearn/model_selection/_validation.py:515: DataConversionWarning: A column-vector y was passed when a 1d array was expected. Please change the shape of y to (n_samples,), for example using ravel().\n",
            "  estimator.fit(X_train, y_train, **fit_params)\n"
          ],
          "name": "stderr"
        },
        {
          "output_type": "stream",
          "text": [
            "[CV]  n_estimators=700, min_samples_split=15, min_samples_leaf=1, max_features=auto, max_depth=20, total=   0.9s\n"
          ],
          "name": "stdout"
        },
        {
          "output_type": "stream",
          "text": [
            "[Parallel(n_jobs=1)]: Done  50 out of  50 | elapsed:   45.4s finished\n",
            "/usr/local/lib/python3.7/dist-packages/sklearn/model_selection/_search.py:739: DataConversionWarning: A column-vector y was passed when a 1d array was expected. Please change the shape of y to (n_samples,), for example using ravel().\n",
            "  self.best_estimator_.fit(X, y, **fit_params)\n"
          ],
          "name": "stderr"
        },
        {
          "output_type": "execute_result",
          "data": {
            "text/plain": [
              "RandomizedSearchCV(cv=5, error_score=nan,\n",
              "                   estimator=RandomForestRegressor(bootstrap=True,\n",
              "                                                   ccp_alpha=0.0,\n",
              "                                                   criterion='mse',\n",
              "                                                   max_depth=None,\n",
              "                                                   max_features='auto',\n",
              "                                                   max_leaf_nodes=None,\n",
              "                                                   max_samples=None,\n",
              "                                                   min_impurity_decrease=0.0,\n",
              "                                                   min_impurity_split=None,\n",
              "                                                   min_samples_leaf=1,\n",
              "                                                   min_samples_split=2,\n",
              "                                                   min_weight_fraction_leaf=0.0,\n",
              "                                                   n_estimators=100,\n",
              "                                                   n_jobs=None, oob_score=Fals...\n",
              "                   iid='deprecated', n_iter=10, n_jobs=1,\n",
              "                   param_distributions={'max_depth': [5, 10, 15, 20, 25, 30],\n",
              "                                        'max_features': ['auto', 'sqrt'],\n",
              "                                        'min_samples_leaf': [1, 2, 5, 10],\n",
              "                                        'min_samples_split': [2, 5, 10, 15,\n",
              "                                                              100],\n",
              "                                        'n_estimators': [100, 200, 300, 400,\n",
              "                                                         500, 600, 700, 800,\n",
              "                                                         900, 1000, 1100,\n",
              "                                                         1200]},\n",
              "                   pre_dispatch='2*n_jobs', random_state=42, refit=True,\n",
              "                   return_train_score=False, scoring='neg_mean_squared_error',\n",
              "                   verbose=2)"
            ]
          },
          "metadata": {
            "tags": []
          },
          "execution_count": 58
        }
      ]
    },
    {
      "cell_type": "code",
      "metadata": {
        "colab": {
          "base_uri": "https://localhost:8080/"
        },
        "id": "zFpqNmcB_vUE",
        "outputId": "0c6bf2a5-5f88-439c-dd61-203533c9cda6"
      },
      "source": [
        "rf_random.best_params_"
      ],
      "execution_count": null,
      "outputs": [
        {
          "output_type": "execute_result",
          "data": {
            "text/plain": [
              "{'max_depth': 20,\n",
              " 'max_features': 'auto',\n",
              " 'min_samples_leaf': 1,\n",
              " 'min_samples_split': 15,\n",
              " 'n_estimators': 700}"
            ]
          },
          "metadata": {
            "tags": []
          },
          "execution_count": 59
        }
      ]
    },
    {
      "cell_type": "code",
      "metadata": {
        "colab": {
          "base_uri": "https://localhost:8080/"
        },
        "id": "IbIXipyYAVLV",
        "outputId": "2832e18a-4538-4524-9b72-7ccae93df78f"
      },
      "source": [
        "\n",
        "rf_random.best_score_"
      ],
      "execution_count": null,
      "outputs": [
        {
          "output_type": "execute_result",
          "data": {
            "text/plain": [
              "-3.518612035401407"
            ]
          },
          "metadata": {
            "tags": []
          },
          "execution_count": 60
        }
      ]
    },
    {
      "cell_type": "code",
      "metadata": {
        "id": "0ev0QsFXAYxt"
      },
      "source": [
        "predictions=rf_random.predict(X_test)"
      ],
      "execution_count": null,
      "outputs": []
    },
    {
      "cell_type": "code",
      "metadata": {
        "colab": {
          "base_uri": "https://localhost:8080/"
        },
        "id": "mFxpViNPAaYS",
        "outputId": "ffbe243d-3b79-41f7-d21d-749ec369d120"
      },
      "source": [
        "from sklearn import metrics\n",
        "print('MAE:', metrics.mean_absolute_error(y_test, predictions))\n",
        "print('MSE:', metrics.mean_squared_error(y_test, predictions))\n",
        "print('RMSE:', np.sqrt(metrics.mean_squared_error(y_test, predictions)))"
      ],
      "execution_count": null,
      "outputs": [
        {
          "output_type": "stream",
          "text": [
            "MAE: 0.7147621921228308\n",
            "MSE: 1.8848148727069816\n",
            "RMSE: 1.372885600735539\n"
          ],
          "name": "stdout"
        }
      ]
    },
    {
      "cell_type": "code",
      "metadata": {
        "colab": {
          "base_uri": "https://localhost:8080/"
        },
        "id": "77QfKdNnAjuC",
        "outputId": "89f967ff-28ff-4dd2-a001-7d563f50f4d4"
      },
      "source": [
        "r2_score(y_test,predictions)"
      ],
      "execution_count": null,
      "outputs": [
        {
          "output_type": "execute_result",
          "data": {
            "text/plain": [
              "0.9254345405559233"
            ]
          },
          "metadata": {
            "tags": []
          },
          "execution_count": 64
        }
      ]
    },
    {
      "cell_type": "code",
      "metadata": {
        "colab": {
          "base_uri": "https://localhost:8080/",
          "height": 336
        },
        "id": "mTbz-_qIBcPs",
        "outputId": "38fbecce-e06b-4520-fd9a-342325d0de4a"
      },
      "source": [
        "sns.distplot(y_test-predictions)"
      ],
      "execution_count": null,
      "outputs": [
        {
          "output_type": "stream",
          "text": [
            "/usr/local/lib/python3.7/dist-packages/seaborn/distributions.py:2557: FutureWarning: `distplot` is a deprecated function and will be removed in a future version. Please adapt your code to use either `displot` (a figure-level function with similar flexibility) or `histplot` (an axes-level function for histograms).\n",
            "  warnings.warn(msg, FutureWarning)\n"
          ],
          "name": "stderr"
        },
        {
          "output_type": "execute_result",
          "data": {
            "text/plain": [
              "<matplotlib.axes._subplots.AxesSubplot at 0x7f95a0895710>"
            ]
          },
          "metadata": {
            "tags": []
          },
          "execution_count": 68
        },
        {
          "output_type": "display_data",
          "data": {
            "image/png": "[encoded data removed]",
            "text/plain": [
              "<Figure size 432x288 with 1 Axes>"
            ]
          },
          "metadata": {
            "tags": [],
            "needs_background": "light"
          }
        }
      ]
    },
    {
      "cell_type": "code",
      "metadata": {
        "colab": {
          "base_uri": "https://localhost:8080/",
          "height": 282
        },
        "id": "T3tc4uDpBeDX",
        "outputId": "541471d8-5af9-4791-ab00-8caa4bd7371b"
      },
      "source": [
        "plt.scatter(y_test,predictions)"
      ],
      "execution_count": null,
      "outputs": [
        {
          "output_type": "execute_result",
          "data": {
            "text/plain": [
              "<matplotlib.collections.PathCollection at 0x7f959fd2e6d0>"
            ]
          },
          "metadata": {
            "tags": []
          },
          "execution_count": 69
        },
        {
          "output_type": "display_data",
          "data": {
            "image/png": "[encoded data removed]",
            "text/plain": [
              "<Figure size 432x288 with 1 Axes>"
            ]
          },
          "metadata": {
            "tags": [],
            "needs_background": "light"
          }
        }
      ]
    },
    {
      "cell_type": "code",
      "metadata": {
        "id": "kK4opH-BCU6H"
      },
      "source": [
        "import pickle"
      ],
      "execution_count": null,
      "outputs": []
    },
    {
      "cell_type": "code",
      "metadata": {
        "id": "-6_nZ25jC1SJ"
      },
      "source": [
        "file=open('rf_model','wb')\n",
        "pickle.dump(regressor,file)"
      ],
      "execution_count": null,
      "outputs": []
    }
  ]
}